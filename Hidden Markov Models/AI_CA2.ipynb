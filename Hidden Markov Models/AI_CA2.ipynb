{
 "cells": [
  {
   "cell_type": "markdown",
   "metadata": {},
   "source": [
    "<h1 align=\"center\">University of Tehran</h1>\n",
    "<h2 align=\"center\">CA2</h2>\n",
    "<h3 align=\"center\">Aryan Bastani</h3>\n",
    "<h3 align=\"center\">810100088</h3>\n"
   ]
  },
  {
   "cell_type": "markdown",
   "metadata": {},
   "source": [
    "</br>\n",
    "</br>\n",
    "<h1 align=\"center\">Hidden Markov Models</h1>"
   ]
  },
  {
   "cell_type": "markdown",
   "metadata": {},
   "source": [
    "# Preprocessing\n",
    "\n",
    "## 2. Extracting Features\n",
    "\n",
    "In the realm of artificial intelligence and machine learning, **feature extraction** and **feature selection** play pivotal roles. These steps significantly impact the performance of our models. Let's delve into some essential audio features and explore their relationships:\n",
    "\n",
    "- #### 1. Mel-Frequency Cepstral Coefficients (MFCC)\n",
    "    - **Definition**: MFCCs represent the short-term power spectrum of a sound signal.\n",
    "    - **Purpose**: They capture spectral characteristics, emphasizing perceptually relevant features.\n",
    "    - **Extraction Process**:\n",
    "        - Compute the power spectrum.\n",
    "        - Apply the Mel filterbank to obtain Mel-scale frequencies.\n",
    "        - Take the logarithm of filterbank energies.\n",
    "        - Apply the Discrete Cosine Transform (DCT) to yield MFCCs.\n",
    "    - **Applications**: Speech recognition, speaker identification, and music genre classification.\n",
    "    - **Relation to Other Features**: Often used as input features for other models due to their effectiveness in capturing spectral information.\n",
    "\n",
    "    #### 2. Zero Crossing Rate\n",
    "    - **Definition**: Counts zero crossings in the audio signal.\n",
    "    - **Purpose**: Provides insights into temporal variations, indicating noisiness or silence.\n",
    "    - **Extraction Process**:\n",
    "        - Calculate the sign of audio samples.\n",
    "        - Count zero crossings.\n",
    "    - **Applications**: Voice activity detection, audio segmentation, and noise classification.\n",
    "    - **Relation to Other Features**: Complementary to features like MFCCs, focusing on temporal aspects.\n",
    "\n",
    "    #### 3. Mel-Spectrogram\n",
    "    - **Definition**: Represents the power spectral density in Mel-scale frequencies.\n",
    "    - **Purpose**: Combines spectrogram and Mel-scale filtering benefits.\n",
    "    - **Extraction Process**:\n",
    "        - Compute Short-Time Fourier Transform (STFT).\n",
    "        - Apply Mel filterbank to STFT magnitude.\n",
    "    - **Applications**: Music genre classification, speech recognition, and sound event detection.\n",
    "    - **Relation to Other Features**: Linked to MFCCs due to shared Mel-scale filtering.\n",
    "\n",
    "    #### 4. Chroma Features\n",
    "    - **Definition**: Represents the 12 distinct pitch classes (notes) in music.\n",
    "    - **Purpose**: Captures harmonic content and tonality.\n",
    "    - **Extraction Process**:\n",
    "        - Compute STFT of the audio signal.\n",
    "        - Sum magnitudes of STFT bins corresponding to each pitch class.\n",
    "    - **Applications**: Music genre classification, chord recognition, and melody extraction.\n",
    "    - **Relation to Other Features**: Complementary to features like MFCCs and spectrogram-based features.\n",
    "\n",
    "Remember that feature choice depends on the task and data characteristics. Intelligently combining these features enhances model performance. 🎧🔍"
   ]
  }
 ],
 "metadata": {
  "kernelspec": {
   "display_name": "Python 3",
   "language": "python",
   "name": "python3"
  },
  "language_info": {
   "codemirror_mode": {
    "name": "ipython",
    "version": 3
   },
   "file_extension": ".py",
   "mimetype": "text/x-python",
   "name": "python",
   "nbconvert_exporter": "python",
   "pygments_lexer": "ipython3",
   "version": "3.11.9"
  }
 },
 "nbformat": 4,
 "nbformat_minor": 2
}
