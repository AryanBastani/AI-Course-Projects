{
  "cells": [
    {
      "cell_type": "markdown",
      "source": [
        "# Setup environment"
      ],
      "metadata": {
        "id": "eY99YE-VG1C9"
      },
      "id": "eY99YE-VG1C9"
    },
    {
      "cell_type": "code",
      "execution_count": null,
      "id": "fec65989e04597f0",
      "metadata": {
        "id": "fec65989e04597f0",
        "colab": {
          "base_uri": "https://localhost:8080/"
        },
        "outputId": "ce815b05-6a10-4a46-f046-95d70221f9d2"
      },
      "outputs": [
        {
          "output_type": "stream",
          "name": "stdout",
          "text": [
            "\u001b[2K     \u001b[90m━━━━━━━━━━━━━━━━━━━━━━━━━━━━━━━━━━━━━━━━\u001b[0m \u001b[32m431.4/431.4 kB\u001b[0m \u001b[31m6.2 MB/s\u001b[0m eta \u001b[36m0:00:00\u001b[0m\n",
            "\u001b[2K     \u001b[90m━━━━━━━━━━━━━━━━━━━━━━━━━━━━━━━━━━━━━━━━\u001b[0m \u001b[32m21.3/21.3 MB\u001b[0m \u001b[31m54.0 MB/s\u001b[0m eta \u001b[36m0:00:00\u001b[0m\n",
            "\u001b[?25h"
          ]
        }
      ],
      "source": [
        "!pip install gensim emoji nltk tqdm seaborn torch torchsummary -q"
      ]
    },
    {
      "cell_type": "code",
      "execution_count": null,
      "id": "initial_id",
      "metadata": {
        "collapsed": true,
        "id": "initial_id"
      },
      "outputs": [],
      "source": [
        "import pandas as pd\n",
        "import torch\n",
        "from torch import nn\n",
        "from torch.utils.data import DataLoader, Dataset\n",
        "import torch.optim as optim\n",
        "\n",
        "import gensim\n",
        "\n",
        "from sklearn.model_selection import train_test_split\n",
        "import sklearn.metrics as metrics\n",
        "\n",
        "import matplotlib.pyplot as plt\n",
        "import seaborn as sns\n",
        "import numpy as np\n",
        "from tqdm import tqdm\n",
        "import gc\n",
        "import os\n",
        "\n",
        "import ssl\n",
        "ssl._create_default_https_context = ssl._create_unverified_context"
      ]
    },
    {
      "cell_type": "markdown",
      "id": "cf946d026ed2d98e",
      "metadata": {
        "collapsed": false,
        "id": "cf946d026ed2d98e"
      },
      "source": [
        "# Config"
      ]
    },
    {
      "cell_type": "markdown",
      "id": "3e83a8b72b644c2",
      "metadata": {
        "collapsed": false,
        "id": "3e83a8b72b644c2"
      },
      "source": [
        "## Model training config"
      ]
    },
    {
      "cell_type": "code",
      "execution_count": null,
      "id": "2d0826c5b8eb52c9",
      "metadata": {
        "id": "2d0826c5b8eb52c9"
      },
      "outputs": [],
      "source": [
        "LEARNING_RATE = 4e-4\n",
        "WEIGHT_DECAY = 1e-2\n",
        "BATCH_SIZE = 64\n",
        "EPOCHS = 15\n",
        "\n",
        "SEQUENCE_LEN = 64\n",
        "CNN_FILTERS = 64"
      ]
    },
    {
      "cell_type": "code",
      "execution_count": null,
      "id": "b1f939dd5898a0b6",
      "metadata": {
        "id": "b1f939dd5898a0b6"
      },
      "outputs": [],
      "source": [
        "DEVICE = torch.device(\"cuda\" if torch.cuda.is_available() else \"cpu\")"
      ]
    },
    {
      "cell_type": "markdown",
      "id": "27110752c038c1d0",
      "metadata": {
        "collapsed": false,
        "id": "27110752c038c1d0"
      },
      "source": [
        "# Data Preparation"
      ]
    },
    {
      "cell_type": "markdown",
      "id": "32b050729991fec9",
      "metadata": {
        "collapsed": false,
        "id": "32b050729991fec9"
      },
      "source": [
        "## Load Data"
      ]
    },
    {
      "cell_type": "code",
      "source": [
        "from google.colab import drive\n",
        "drive.mount('/content/drive')"
      ],
      "metadata": {
        "colab": {
          "base_uri": "https://localhost:8080/"
        },
        "id": "rQw_pk5s3J9C",
        "outputId": "e4227243-a437-4dea-dc1d-d699aba5e8de"
      },
      "id": "rQw_pk5s3J9C",
      "execution_count": null,
      "outputs": [
        {
          "output_type": "stream",
          "name": "stdout",
          "text": [
            "Mounted at /content/drive\n"
          ]
        }
      ]
    },
    {
      "cell_type": "code",
      "execution_count": null,
      "id": "88e92f34d72c6f62",
      "metadata": {
        "id": "88e92f34d72c6f62"
      },
      "outputs": [],
      "source": [
        "data = pd.read_csv('/content/drive/MyDrive/twitter-suicidal-data.csv')"
      ]
    },
    {
      "cell_type": "markdown",
      "id": "57f7552c58ea498e",
      "metadata": {
        "collapsed": false,
        "id": "57f7552c58ea498e"
      },
      "source": [
        "## Data Preprocessing"
      ]
    },
    {
      "cell_type": "code",
      "execution_count": null,
      "id": "f16efd0184e90f40",
      "metadata": {
        "colab": {
          "base_uri": "https://localhost:8080/"
        },
        "id": "f16efd0184e90f40",
        "outputId": "45894ee7-9f37-4826-c4f1-7769b59dcbcc"
      },
      "outputs": [
        {
          "output_type": "stream",
          "name": "stderr",
          "text": [
            "[nltk_data] Downloading package stopwords to /root/nltk_data...\n",
            "[nltk_data]   Unzipping corpora/stopwords.zip.\n",
            "[nltk_data] Downloading package punkt to /root/nltk_data...\n",
            "[nltk_data]   Unzipping tokenizers/punkt.zip.\n",
            "[nltk_data] Downloading package wordnet to /root/nltk_data...\n",
            "[nltk_data] Downloading package averaged_perceptron_tagger to\n",
            "[nltk_data]     /root/nltk_data...\n",
            "[nltk_data]   Unzipping taggers/averaged_perceptron_tagger.zip.\n"
          ]
        },
        {
          "output_type": "execute_result",
          "data": {
            "text/plain": [
              "True"
            ]
          },
          "metadata": {},
          "execution_count": 7
        }
      ],
      "source": [
        "import nltk\n",
        "import emoji\n",
        "import re\n",
        "\n",
        "nltk.download([\"stopwords\", \"punkt\", \"wordnet\", \"averaged_perceptron_tagger\"])"
      ]
    },
    {
      "cell_type": "code",
      "execution_count": null,
      "id": "dbe50f445aa09ecc",
      "metadata": {
        "id": "dbe50f445aa09ecc"
      },
      "outputs": [],
      "source": [
        "def convert_emoji_to_text(text):\n",
        "    \"\"\"This function converts emojis to their text descriptions.\"\"\"\n",
        "    return emoji.demojize(text, delimiters=(\" \", \" \"))\n",
        "\n",
        "stopwords = nltk.corpus.stopwords.words(\"english\")\n",
        "lemmatizer = nltk.stem.WordNetLemmatizer()\n",
        "\n",
        "def nltk_pos_tagger(nltk_tag):\n",
        "    if nltk_tag.startswith('J'):\n",
        "        return 'a'\n",
        "    elif nltk_tag.startswith('V'):\n",
        "        return 'v'\n",
        "    elif nltk_tag.startswith('N'):\n",
        "        return 'n'\n",
        "    elif nltk_tag.startswith('R'):\n",
        "        return 'r'\n",
        "    else:\n",
        "        return 'n'\n",
        "\n",
        "def preprocess_data(text: str):\n",
        "    \"\"\"\n",
        "    Preprocessing steps are as follows:\n",
        "    1. lowercase the text\n",
        "    2. remove punctuation\n",
        "    3. remove numbers\n",
        "    4. remove urls\n",
        "    5. remove usernames\n",
        "    6. remove extra spaces\n",
        "    7. convert emojis to text\n",
        "    8. remove non-word characters\n",
        "    9. lemmatization and tokenization of the text\n",
        "    10. remove stopwords\n",
        "    :param text: str\n",
        "    :return: tokens: list[str]\n",
        "    \"\"\"\n",
        "    # Lowercase the text\n",
        "    text = text.lower()\n",
        "\n",
        "    # Remove punctuation\n",
        "    text = re.sub(r'[^\\w\\s]', ' ', text)\n",
        "\n",
        "    # Remove numbers\n",
        "    text = re.sub(r'\\d+', ' ', text)\n",
        "\n",
        "    # Remove urls\n",
        "    text = re.sub(r'http\\S+|www\\S+|https\\S+', ' ', text, flags=re.MULTILINE)\n",
        "\n",
        "    # Remove usernames\n",
        "    text = re.sub(r'@\\w+', ' ', text)\n",
        "\n",
        "    # Remove extra spaces\n",
        "    text = re.sub(r'\\s+', ' ', text).strip()\n",
        "\n",
        "    # Convert emojis to text\n",
        "    text = convert_emoji_to_text(text)\n",
        "\n",
        "    # Remove non-word characters\n",
        "    text = re.sub(r'[^a-zA-Z\\s]', ' ', text)\n",
        "\n",
        "    # Tokenization\n",
        "    tokens = nltk.word_tokenize(text)\n",
        "\n",
        "    # POS tagging and lemmatization\n",
        "    pos_tagged = nltk.pos_tag(tokens)\n",
        "    tokens = [lemmatizer.lemmatize(word, pos=nltk_pos_tagger(tag)) for word, tag in pos_tagged]\n",
        "\n",
        "    # Remove stopwords\n",
        "    tokens = [word for word in tokens if word not in stopwords]\n",
        "\n",
        "    return tokens"
      ]
    },
    {
      "cell_type": "markdown",
      "source": [
        "### Questions"
      ],
      "metadata": {
        "id": "hNW6mNJnq-kq"
      },
      "id": "hNW6mNJnq-kq"
    },
    {
      "cell_type": "markdown",
      "source": [
        "#### Lowercase Conversion"
      ],
      "metadata": {
        "id": "kXS3OZ96q_Dh"
      },
      "id": "kXS3OZ96q_Dh"
    },
    {
      "cell_type": "markdown",
      "source": [
        "Pros:\n",
        "1. **Consistency**: Converting all characters to lowercase ensures uniformity in the dataset, making it easier to process and analyze.\n",
        "2. **Reduction of Vocabulary Size**: Lowercasing reduces the number of unique tokens in the dataset, which can improve computational efficiency.\n",
        "3. **Improved Generalization**: Lowercasing helps in generalizing text data by treating words regardless of their case, which can be beneficial for tasks like sentiment analysis or text classification.\n",
        "\n",
        "Cons:\n",
        "1. **Loss of Information**: Converting to lowercase may result in the loss of information, especially for proper nouns or acronyms where case sensitivity matters.\n",
        "2. **Ambiguity**: Some words have different meanings or contexts based on their case. Lowercasing can introduce ambiguity in such cases.\n",
        "3. **Dependency on Language**: Lowercasing may not be suitable for all languages, where case holds semantic significance. For example, German nouns are capitalized, and lowercasing them could change the meaning.\n",
        "\n",
        "\n",
        "Despite these drawbacks, lowercasing is often performed in text preprocessing for its benefits in simplifying text representation and improving generalization across different tasks and datasets. It's typically applied judiciously, with consideration given to the specific characteristics and requirements of the text data and the downstream tasks involved."
      ],
      "metadata": {
        "id": "sK5rOE0TrXkT"
      },
      "id": "sK5rOE0TrXkT"
    },
    {
      "cell_type": "markdown",
      "source": [
        "#### Removing Numbers"
      ],
      "metadata": {
        "id": "Orh6XszWsP7C"
      },
      "id": "Orh6XszWsP7C"
    },
    {
      "cell_type": "markdown",
      "source": [
        "Pros:\n",
        "1. **Improved Text Clarity**: Removing numbers from tweets can enhance the readability and interpretability of the text, especially if the numbers are not relevant to the context.\n",
        "2. **Reduction of Noise**: Numbers often represent noise in text data, particularly in social media posts like tweets, where they might include timestamps, user IDs, or irrelevant numerical values.\n",
        "3. **Focus on Textual Content**: Eliminating numbers allows the focus to be on the textual content of the tweets, which is usually more informative for natural language processing tasks.\n",
        "\n",
        "Cons:\n",
        "1. **Loss of Context**: Numbers in tweets can sometimes carry valuable information, such as statistics, measurements, or quantities, which may be relevant for certain analysis tasks.\n",
        "1. **Altered Meaning**: Removing numbers can alter the meaning or context of the tweet, especially if the numbers are integral to understanding the message or sentiment conveyed.\n",
        "3. **Impact on Entities**: Deleting numbers might affect the recognition of entities such as dates, times, or numerical references, which could be important for downstream tasks like event detection or sentiment analysis."
      ],
      "metadata": {
        "id": "DjsazTtAsRri"
      },
      "id": "DjsazTtAsRri"
    },
    {
      "cell_type": "markdown",
      "source": [
        "#### Removing Hashtags"
      ],
      "metadata": {
        "id": "G_ffyQAws4gg"
      },
      "id": "G_ffyQAws4gg"
    },
    {
      "cell_type": "markdown",
      "source": [
        "Pros:\n",
        "1. **Improved Readability**: Removing hashtags from tweets can enhance readability, especially if they are overly abundant or distracting.\n",
        "2. **Focus on Textual Content**: Eliminating hashtags allows the focus to be on the actual text of the tweet, which is typically more relevant for natural language processing tasks.\n",
        "3. **Reduction of Noise**: Hashtags can sometimes introduce noise into the text data, particularly if they are used excessively or irrelevantly, and removing them can help mitigate this issue.\n",
        "\n",
        "Cons:\n",
        "1. **Loss of Context**: Hashtags often provide valuable context or metadata about the content of the tweet, including topics, events, or communities, and deleting them can lead to a loss of this information.\n",
        "2. **Altered Meaning**: Removing hashtags can alter the meaning or tone of the tweet, especially if the hashtags are integral to understanding the message or sentiment conveyed.\n",
        "3. **Impact on Analysis**: Deleting hashtags can affect the analysis of the tweet data, particularly for tasks like topic modeling or trend analysis, where hashtags serve as important features for classification or clustering."
      ],
      "metadata": {
        "id": "ap5Vkrvbs9eo"
      },
      "id": "ap5Vkrvbs9eo"
    },
    {
      "cell_type": "code",
      "execution_count": null,
      "id": "11ac7d394e03d9f",
      "metadata": {
        "id": "11ac7d394e03d9f",
        "colab": {
          "base_uri": "https://localhost:8080/"
        },
        "outputId": "34c3bc83-f0e9-4119-ae80-d392f77d4522"
      },
      "outputs": [
        {
          "output_type": "stream",
          "name": "stdout",
          "text": [
            "BEFORE:\n",
            "my life is meaningless i just want to end my life so badly my life is completely empty and i dont want to have to create meaning in it creating meaning is pain how long will i hold back the urge to run my car head first into the next person coming the opposite way when will i stop feeling jealous of tragic characters like gomer pile for the swift end they were able to bring to their lives\n",
            "-------\n",
            "AFTER:\n"
          ]
        },
        {
          "output_type": "execute_result",
          "data": {
            "text/plain": [
              "['life',\n",
              " 'meaningless',\n",
              " 'want',\n",
              " 'end',\n",
              " 'life',\n",
              " 'badly',\n",
              " 'life',\n",
              " 'completely',\n",
              " 'empty',\n",
              " 'dont',\n",
              " 'want',\n",
              " 'create',\n",
              " 'meaning',\n",
              " 'create',\n",
              " 'meaning',\n",
              " 'pain',\n",
              " 'long',\n",
              " 'hold',\n",
              " 'back',\n",
              " 'urge',\n",
              " 'run',\n",
              " 'car',\n",
              " 'head',\n",
              " 'first',\n",
              " 'next',\n",
              " 'person',\n",
              " 'come',\n",
              " 'opposite',\n",
              " 'way',\n",
              " 'stop',\n",
              " 'feel',\n",
              " 'jealous',\n",
              " 'tragic',\n",
              " 'character',\n",
              " 'like',\n",
              " 'gomer',\n",
              " 'pile',\n",
              " 'swift',\n",
              " 'end',\n",
              " 'able',\n",
              " 'bring',\n",
              " 'life']"
            ]
          },
          "metadata": {},
          "execution_count": 9
        }
      ],
      "source": [
        "print(\"BEFORE:\")\n",
        "print(data.iloc[0]['tweet'])\n",
        "print(\"-------\\nAFTER:\")\n",
        "preprocess_data(data.iloc[0]['tweet'])"
      ]
    },
    {
      "cell_type": "code",
      "source": [
        "print(\"BEFORE:\")\n",
        "print(data.iloc[1]['tweet'])\n",
        "print(\"-------\\nAFTER:\")\n",
        "preprocess_data(data.iloc[1]['tweet'])"
      ],
      "metadata": {
        "colab": {
          "base_uri": "https://localhost:8080/"
        },
        "id": "y2prw8-xdRvs",
        "outputId": "f9e03442-a01a-4227-dcbd-7ba63c15b2a9"
      },
      "id": "y2prw8-xdRvs",
      "execution_count": null,
      "outputs": [
        {
          "output_type": "stream",
          "name": "stdout",
          "text": [
            "BEFORE:\n",
            "muttering i wanna die to myself daily for a few months now i feel worthless shes my soulmate i cant live in this horrible world without her i am so lonely i wish i could just turn off the part of my brain that feels \n",
            "-------\n",
            "AFTER:\n"
          ]
        },
        {
          "output_type": "execute_result",
          "data": {
            "text/plain": [
              "['mutter',\n",
              " 'wan',\n",
              " 'na',\n",
              " 'die',\n",
              " 'daily',\n",
              " 'month',\n",
              " 'feel',\n",
              " 'worthless',\n",
              " 'shes',\n",
              " 'soulmate',\n",
              " 'cant',\n",
              " 'live',\n",
              " 'horrible',\n",
              " 'world',\n",
              " 'without',\n",
              " 'lonely',\n",
              " 'wish',\n",
              " 'could',\n",
              " 'turn',\n",
              " 'part',\n",
              " 'brain',\n",
              " 'feel']"
            ]
          },
          "metadata": {},
          "execution_count": 10
        }
      ]
    },
    {
      "cell_type": "code",
      "source": [
        "data['processed_tweet'] = data['tweet'].apply(preprocess_data)\n",
        "\n",
        "data['num_tokens'] = data['processed_tweet'].apply(len)"
      ],
      "metadata": {
        "id": "mwikjCZjntj0"
      },
      "id": "mwikjCZjntj0",
      "execution_count": null,
      "outputs": []
    },
    {
      "cell_type": "code",
      "source": [
        "import matplotlib.pyplot as plt\n",
        "import seaborn as sns\n",
        "\n",
        "data_all = data.copy(deep=True)\n",
        "data_all['intention'] = 'All Data'\n",
        "\n",
        "data_plot = pd.concat([data, data_all])\n",
        "meanprops = dict(marker='o', markerfacecolor='red', markeredgecolor='black', markersize=10)\n",
        "\n",
        "plt.figure(figsize=(12, 6))\n",
        "sns.boxplot(x='intention', y='num_tokens', data=data_plot, palette=\"Set2\", meanprops=meanprops, showmeans=True)\n",
        "\n",
        "plt.title('Boxplot of Number of Tokens by Intention')\n",
        "plt.xlabel('Intention')\n",
        "plt.ylabel('Number of Tokens')\n",
        "plt.show()"
      ],
      "metadata": {
        "colab": {
          "base_uri": "https://localhost:8080/",
          "height": 651
        },
        "id": "drxHBTxAn2fL",
        "outputId": "e6169517-cf5d-46c3-9898-1443a46188a7"
      },
      "id": "drxHBTxAn2fL",
      "execution_count": null,
      "outputs": [
        {
          "output_type": "stream",
          "name": "stderr",
          "text": [
            "<ipython-input-12-2bed29f58969>:11: FutureWarning: \n",
            "\n",
            "Passing `palette` without assigning `hue` is deprecated and will be removed in v0.14.0. Assign the `x` variable to `hue` and set `legend=False` for the same effect.\n",
            "\n",
            "  sns.boxplot(x='intention', y='num_tokens', data=data_plot, palette=\"Set2\", meanprops=meanprops, showmeans=True)\n"
          ]
        },
        {
          "output_type": "display_data",
          "data": {
            "text/plain": [
              "<Figure size 1200x600 with 1 Axes>"
            ],
            "image/png": "[encoded data removed]"
          },
          "metadata": {}
        }
      ]
    },
    {
      "cell_type": "code",
      "source": [
        "data_filtered = data[data['num_tokens'] < 200]\n",
        "\n",
        "data_all_filtered = data_filtered.copy()\n",
        "data_all_filtered['intention'] = 'All Data'\n",
        "\n",
        "data_plot_filtered = pd.concat([data_filtered, data_all_filtered])\n",
        "\n",
        "plt.figure(figsize=(12, 6))\n",
        "meanprops = dict(marker='o', markerfacecolor='red', markeredgecolor='black', markersize=10)\n",
        "\n",
        "sns.boxplot(x='intention', y='num_tokens', data=data_plot_filtered, palette=\"Set2\", meanprops=meanprops, showmeans=True)\n",
        "\n",
        "plt.title('Boxplot of Number of Tokens by Intention (Num Tokens < 200)')\n",
        "plt.xlabel('Intention')\n",
        "plt.ylabel('Number of Tokens')\n",
        "plt.show()"
      ],
      "metadata": {
        "colab": {
          "base_uri": "https://localhost:8080/",
          "height": 651
        },
        "id": "pcb4nSf0lcSs",
        "outputId": "d1ef331f-e760-446a-c606-27d5f21b8f07"
      },
      "id": "pcb4nSf0lcSs",
      "execution_count": null,
      "outputs": [
        {
          "output_type": "stream",
          "name": "stderr",
          "text": [
            "<ipython-input-13-5899fae64912>:11: FutureWarning: \n",
            "\n",
            "Passing `palette` without assigning `hue` is deprecated and will be removed in v0.14.0. Assign the `x` variable to `hue` and set `legend=False` for the same effect.\n",
            "\n",
            "  sns.boxplot(x='intention', y='num_tokens', data=data_plot_filtered, palette=\"Set2\", meanprops=meanprops, showmeans=True)\n"
          ]
        },
        {
          "output_type": "display_data",
          "data": {
            "text/plain": [
              "<Figure size 1200x600 with 1 Axes>"
            ],
            "image/png": "[encoded data removed]"
          },
          "metadata": {}
        }
      ]
    },
    {
      "cell_type": "code",
      "source": [
        "# data = data.drop(columns=['processed_tweet', 'num_tokens'])\n",
        "data"
      ],
      "metadata": {
        "colab": {
          "base_uri": "https://localhost:8080/",
          "height": 424
        },
        "id": "OdfbtqmJnXy8",
        "outputId": "93d02f9f-bb5f-48c8-a5d2-ad472ebe72d2"
      },
      "id": "OdfbtqmJnXy8",
      "execution_count": null,
      "outputs": [
        {
          "output_type": "execute_result",
          "data": {
            "text/plain": [
              "                                                  tweet  intention  \\\n",
              "0     my life is meaningless i just want to end my l...          1   \n",
              "1     muttering i wanna die to myself daily for a fe...          1   \n",
              "2     work slave i really feel like my only purpose ...          1   \n",
              "3     i did something on the 2 of october i overdose...          1   \n",
              "4     i feel like no one cares i just want to die ma...          1   \n",
              "...                                                 ...        ...   \n",
              "9114  have you ever laid on your bed at night and cr...          1   \n",
              "9115  the fault the blame the pain s still there i m...          1   \n",
              "9116  stop asking me to trust you when i m still cou...          1   \n",
              "9117  i never know how to handle sadness crying make...          1   \n",
              "9118  when cancer takes a life we blame cancer depre...          1   \n",
              "\n",
              "                                        processed_tweet  num_tokens  \n",
              "0     [life, meaningless, want, end, life, badly, li...          42  \n",
              "1     [mutter, wan, na, die, daily, month, feel, wor...          22  \n",
              "2     [work, slave, really, feel, like, purpose, lif...          32  \n",
              "3     [something, october, overdose, felt, alone, ho...          29  \n",
              "4     [feel, like, one, care, want, die, maybe, feel...          10  \n",
              "...                                                 ...         ...  \n",
              "9114  [ever, lay, bed, night, cry, good, enough, cou...          14  \n",
              "9115  [fault, blame, pain, still, alone, inside, bro...          10  \n",
              "9116  [stop, ask, trust, still, cough, water, last, ...          10  \n",
              "9117  [never, know, handle, sadness, cry, make, feel...           8  \n",
              "9118  [cancer, take, life, blame, cancer, depression...          11  \n",
              "\n",
              "[9119 rows x 4 columns]"
            ],
            "text/html": [
              "\n",
              "  <div id=\"df-648a76f0-8a91-43d2-8352-adebf888ac5d\" class=\"colab-df-container\">\n",
              "    <div>\n",
              "<style scoped>\n",
              "    .dataframe tbody tr th:only-of-type {\n",
              "        vertical-align: middle;\n",
              "    }\n",
              "\n",
              "    .dataframe tbody tr th {\n",
              "        vertical-align: top;\n",
              "    }\n",
              "\n",
              "    .dataframe thead th {\n",
              "        text-align: right;\n",
              "    }\n",
              "</style>\n",
              "<table border=\"1\" class=\"dataframe\">\n",
              "  <thead>\n",
              "    <tr style=\"text-align: right;\">\n",
              "      <th></th>\n",
              "      <th>tweet</th>\n",
              "      <th>intention</th>\n",
              "      <th>processed_tweet</th>\n",
              "      <th>num_tokens</th>\n",
              "    </tr>\n",
              "  </thead>\n",
              "  <tbody>\n",
              "    <tr>\n",
              "      <th>0</th>\n",
              "      <td>my life is meaningless i just want to end my l...</td>\n",
              "      <td>1</td>\n",
              "      <td>[life, meaningless, want, end, life, badly, li...</td>\n",
              "      <td>42</td>\n",
              "    </tr>\n",
              "    <tr>\n",
              "      <th>1</th>\n",
              "      <td>muttering i wanna die to myself daily for a fe...</td>\n",
              "      <td>1</td>\n",
              "      <td>[mutter, wan, na, die, daily, month, feel, wor...</td>\n",
              "      <td>22</td>\n",
              "    </tr>\n",
              "    <tr>\n",
              "      <th>2</th>\n",
              "      <td>work slave i really feel like my only purpose ...</td>\n",
              "      <td>1</td>\n",
              "      <td>[work, slave, really, feel, like, purpose, lif...</td>\n",
              "      <td>32</td>\n",
              "    </tr>\n",
              "    <tr>\n",
              "      <th>3</th>\n",
              "      <td>i did something on the 2 of october i overdose...</td>\n",
              "      <td>1</td>\n",
              "      <td>[something, october, overdose, felt, alone, ho...</td>\n",
              "      <td>29</td>\n",
              "    </tr>\n",
              "    <tr>\n",
              "      <th>4</th>\n",
              "      <td>i feel like no one cares i just want to die ma...</td>\n",
              "      <td>1</td>\n",
              "      <td>[feel, like, one, care, want, die, maybe, feel...</td>\n",
              "      <td>10</td>\n",
              "    </tr>\n",
              "    <tr>\n",
              "      <th>...</th>\n",
              "      <td>...</td>\n",
              "      <td>...</td>\n",
              "      <td>...</td>\n",
              "      <td>...</td>\n",
              "    </tr>\n",
              "    <tr>\n",
              "      <th>9114</th>\n",
              "      <td>have you ever laid on your bed at night and cr...</td>\n",
              "      <td>1</td>\n",
              "      <td>[ever, lay, bed, night, cry, good, enough, cou...</td>\n",
              "      <td>14</td>\n",
              "    </tr>\n",
              "    <tr>\n",
              "      <th>9115</th>\n",
              "      <td>the fault the blame the pain s still there i m...</td>\n",
              "      <td>1</td>\n",
              "      <td>[fault, blame, pain, still, alone, inside, bro...</td>\n",
              "      <td>10</td>\n",
              "    </tr>\n",
              "    <tr>\n",
              "      <th>9116</th>\n",
              "      <td>stop asking me to trust you when i m still cou...</td>\n",
              "      <td>1</td>\n",
              "      <td>[stop, ask, trust, still, cough, water, last, ...</td>\n",
              "      <td>10</td>\n",
              "    </tr>\n",
              "    <tr>\n",
              "      <th>9117</th>\n",
              "      <td>i never know how to handle sadness crying make...</td>\n",
              "      <td>1</td>\n",
              "      <td>[never, know, handle, sadness, cry, make, feel...</td>\n",
              "      <td>8</td>\n",
              "    </tr>\n",
              "    <tr>\n",
              "      <th>9118</th>\n",
              "      <td>when cancer takes a life we blame cancer depre...</td>\n",
              "      <td>1</td>\n",
              "      <td>[cancer, take, life, blame, cancer, depression...</td>\n",
              "      <td>11</td>\n",
              "    </tr>\n",
              "  </tbody>\n",
              "</table>\n",
              "<p>9119 rows × 4 columns</p>\n",
              "</div>\n",
              "    <div class=\"colab-df-buttons\">\n",
              "\n",
              "  <div class=\"colab-df-container\">\n",
              "    <button class=\"colab-df-convert\" onclick=\"convertToInteractive('df-648a76f0-8a91-43d2-8352-adebf888ac5d')\"\n",
              "            title=\"Convert this dataframe to an interactive table.\"\n",
              "            style=\"display:none;\">\n",
              "\n",
              "  <svg xmlns=\"http://www.w3.org/2000/svg\" height=\"24px\" viewBox=\"0 -960 960 960\">\n",
              "    <path d=\"M120-120v-720h720v720H120Zm60-500h600v-160H180v160Zm220 220h160v-160H400v160Zm0 220h160v-160H400v160ZM180-400h160v-160H180v160Zm440 0h160v-160H620v160ZM180-180h160v-160H180v160Zm440 0h160v-160H620v160Z\"/>\n",
              "  </svg>\n",
              "    </button>\n",
              "\n",
              "  <style>\n",
              "    .colab-df-container {\n",
              "      display:flex;\n",
              "      gap: 12px;\n",
              "    }\n",
              "\n",
              "    .colab-df-convert {\n",
              "      background-color: #E8F0FE;\n",
              "      border: none;\n",
              "      border-radius: 50%;\n",
              "      cursor: pointer;\n",
              "      display: none;\n",
              "      fill: #1967D2;\n",
              "      height: 32px;\n",
              "      padding: 0 0 0 0;\n",
              "      width: 32px;\n",
              "    }\n",
              "\n",
              "    .colab-df-convert:hover {\n",
              "      background-color: #E2EBFA;\n",
              "      box-shadow: 0px 1px 2px rgba(60, 64, 67, 0.3), 0px 1px 3px 1px rgba(60, 64, 67, 0.15);\n",
              "      fill: #174EA6;\n",
              "    }\n",
              "\n",
              "    .colab-df-buttons div {\n",
              "      margin-bottom: 4px;\n",
              "    }\n",
              "\n",
              "    [theme=dark] .colab-df-convert {\n",
              "      background-color: #3B4455;\n",
              "      fill: #D2E3FC;\n",
              "    }\n",
              "\n",
              "    [theme=dark] .colab-df-convert:hover {\n",
              "      background-color: #434B5C;\n",
              "      box-shadow: 0px 1px 3px 1px rgba(0, 0, 0, 0.15);\n",
              "      filter: drop-shadow(0px 1px 2px rgba(0, 0, 0, 0.3));\n",
              "      fill: #FFFFFF;\n",
              "    }\n",
              "  </style>\n",
              "\n",
              "    <script>\n",
              "      const buttonEl =\n",
              "        document.querySelector('#df-648a76f0-8a91-43d2-8352-adebf888ac5d button.colab-df-convert');\n",
              "      buttonEl.style.display =\n",
              "        google.colab.kernel.accessAllowed ? 'block' : 'none';\n",
              "\n",
              "      async function convertToInteractive(key) {\n",
              "        const element = document.querySelector('#df-648a76f0-8a91-43d2-8352-adebf888ac5d');\n",
              "        const dataTable =\n",
              "          await google.colab.kernel.invokeFunction('convertToInteractive',\n",
              "                                                    [key], {});\n",
              "        if (!dataTable) return;\n",
              "\n",
              "        const docLinkHtml = 'Like what you see? Visit the ' +\n",
              "          '<a target=\"_blank\" href=https://colab.research.google.com/notebooks/data_table.ipynb>data table notebook</a>'\n",
              "          + ' to learn more about interactive tables.';\n",
              "        element.innerHTML = '';\n",
              "        dataTable['output_type'] = 'display_data';\n",
              "        await google.colab.output.renderOutput(dataTable, element);\n",
              "        const docLink = document.createElement('div');\n",
              "        docLink.innerHTML = docLinkHtml;\n",
              "        element.appendChild(docLink);\n",
              "      }\n",
              "    </script>\n",
              "  </div>\n",
              "\n",
              "\n",
              "<div id=\"df-6f080565-2ac7-493d-b919-e2ba07f7283f\">\n",
              "  <button class=\"colab-df-quickchart\" onclick=\"quickchart('df-6f080565-2ac7-493d-b919-e2ba07f7283f')\"\n",
              "            title=\"Suggest charts\"\n",
              "            style=\"display:none;\">\n",
              "\n",
              "<svg xmlns=\"http://www.w3.org/2000/svg\" height=\"24px\"viewBox=\"0 0 24 24\"\n",
              "     width=\"24px\">\n",
              "    <g>\n",
              "        <path d=\"M19 3H5c-1.1 0-2 .9-2 2v14c0 1.1.9 2 2 2h14c1.1 0 2-.9 2-2V5c0-1.1-.9-2-2-2zM9 17H7v-7h2v7zm4 0h-2V7h2v10zm4 0h-2v-4h2v4z\"/>\n",
              "    </g>\n",
              "</svg>\n",
              "  </button>\n",
              "\n",
              "<style>\n",
              "  .colab-df-quickchart {\n",
              "      --bg-color: #E8F0FE;\n",
              "      --fill-color: #1967D2;\n",
              "      --hover-bg-color: #E2EBFA;\n",
              "      --hover-fill-color: #174EA6;\n",
              "      --disabled-fill-color: #AAA;\n",
              "      --disabled-bg-color: #DDD;\n",
              "  }\n",
              "\n",
              "  [theme=dark] .colab-df-quickchart {\n",
              "      --bg-color: #3B4455;\n",
              "      --fill-color: #D2E3FC;\n",
              "      --hover-bg-color: #434B5C;\n",
              "      --hover-fill-color: #FFFFFF;\n",
              "      --disabled-bg-color: #3B4455;\n",
              "      --disabled-fill-color: #666;\n",
              "  }\n",
              "\n",
              "  .colab-df-quickchart {\n",
              "    background-color: var(--bg-color);\n",
              "    border: none;\n",
              "    border-radius: 50%;\n",
              "    cursor: pointer;\n",
              "    display: none;\n",
              "    fill: var(--fill-color);\n",
              "    height: 32px;\n",
              "    padding: 0;\n",
              "    width: 32px;\n",
              "  }\n",
              "\n",
              "  .colab-df-quickchart:hover {\n",
              "    background-color: var(--hover-bg-color);\n",
              "    box-shadow: 0 1px 2px rgba(60, 64, 67, 0.3), 0 1px 3px 1px rgba(60, 64, 67, 0.15);\n",
              "    fill: var(--button-hover-fill-color);\n",
              "  }\n",
              "\n",
              "  .colab-df-quickchart-complete:disabled,\n",
              "  .colab-df-quickchart-complete:disabled:hover {\n",
              "    background-color: var(--disabled-bg-color);\n",
              "    fill: var(--disabled-fill-color);\n",
              "    box-shadow: none;\n",
              "  }\n",
              "\n",
              "  .colab-df-spinner {\n",
              "    border: 2px solid var(--fill-color);\n",
              "    border-color: transparent;\n",
              "    border-bottom-color: var(--fill-color);\n",
              "    animation:\n",
              "      spin 1s steps(1) infinite;\n",
              "  }\n",
              "\n",
              "  @keyframes spin {\n",
              "    0% {\n",
              "      border-color: transparent;\n",
              "      border-bottom-color: var(--fill-color);\n",
              "      border-left-color: var(--fill-color);\n",
              "    }\n",
              "    20% {\n",
              "      border-color: transparent;\n",
              "      border-left-color: var(--fill-color);\n",
              "      border-top-color: var(--fill-color);\n",
              "    }\n",
              "    30% {\n",
              "      border-color: transparent;\n",
              "      border-left-color: var(--fill-color);\n",
              "      border-top-color: var(--fill-color);\n",
              "      border-right-color: var(--fill-color);\n",
              "    }\n",
              "    40% {\n",
              "      border-color: transparent;\n",
              "      border-right-color: var(--fill-color);\n",
              "      border-top-color: var(--fill-color);\n",
              "    }\n",
              "    60% {\n",
              "      border-color: transparent;\n",
              "      border-right-color: var(--fill-color);\n",
              "    }\n",
              "    80% {\n",
              "      border-color: transparent;\n",
              "      border-right-color: var(--fill-color);\n",
              "      border-bottom-color: var(--fill-color);\n",
              "    }\n",
              "    90% {\n",
              "      border-color: transparent;\n",
              "      border-bottom-color: var(--fill-color);\n",
              "    }\n",
              "  }\n",
              "</style>\n",
              "\n",
              "  <script>\n",
              "    async function quickchart(key) {\n",
              "      const quickchartButtonEl =\n",
              "        document.querySelector('#' + key + ' button');\n",
              "      quickchartButtonEl.disabled = true;  // To prevent multiple clicks.\n",
              "      quickchartButtonEl.classList.add('colab-df-spinner');\n",
              "      try {\n",
              "        const charts = await google.colab.kernel.invokeFunction(\n",
              "            'suggestCharts', [key], {});\n",
              "      } catch (error) {\n",
              "        console.error('Error during call to suggestCharts:', error);\n",
              "      }\n",
              "      quickchartButtonEl.classList.remove('colab-df-spinner');\n",
              "      quickchartButtonEl.classList.add('colab-df-quickchart-complete');\n",
              "    }\n",
              "    (() => {\n",
              "      let quickchartButtonEl =\n",
              "        document.querySelector('#df-6f080565-2ac7-493d-b919-e2ba07f7283f button');\n",
              "      quickchartButtonEl.style.display =\n",
              "        google.colab.kernel.accessAllowed ? 'block' : 'none';\n",
              "    })();\n",
              "  </script>\n",
              "</div>\n",
              "    </div>\n",
              "  </div>\n"
            ],
            "application/vnd.google.colaboratory.intrinsic+json": {
              "type": "dataframe",
              "variable_name": "data",
              "summary": "{\n  \"name\": \"data\",\n  \"rows\": 9119,\n  \"fields\": [\n    {\n      \"column\": \"tweet\",\n      \"properties\": {\n        \"dtype\": \"string\",\n        \"num_unique_values\": 8785,\n        \"samples\": [\n          \"i am so frustrated i hanged myself 6 and half weeks ago i barely survived i have a scar on my neck from the 12 inch manilla that cut into my neck yet all i can think of right now is blowing my head off i am on 20mg lexapro 10mg zyprexa and 100mg lamotrigine i spent all of yesterday cutting into my chest because the pain makes not see the hallucinations i get every hour of every day i just want to live a normal life\",\n          \"cold shower ftw too bad clothes had to be put back on it s too hot \",\n          \"rip jack kemp a great american patriot i always wanted to meet and now never will \"\n        ],\n        \"semantic_type\": \"\",\n        \"description\": \"\"\n      }\n    },\n    {\n      \"column\": \"intention\",\n      \"properties\": {\n        \"dtype\": \"number\",\n        \"std\": 0,\n        \"min\": 0,\n        \"max\": 1,\n        \"num_unique_values\": 2,\n        \"samples\": [\n          0,\n          1\n        ],\n        \"semantic_type\": \"\",\n        \"description\": \"\"\n      }\n    },\n    {\n      \"column\": \"processed_tweet\",\n      \"properties\": {\n        \"dtype\": \"object\",\n        \"semantic_type\": \"\",\n        \"description\": \"\"\n      }\n    },\n    {\n      \"column\": \"num_tokens\",\n      \"properties\": {\n        \"dtype\": \"number\",\n        \"std\": 71,\n        \"min\": 0,\n        \"max\": 2129,\n        \"num_unique_values\": 370,\n        \"samples\": [\n          1262,\n          115\n        ],\n        \"semantic_type\": \"\",\n        \"description\": \"\"\n      }\n    }\n  ]\n}"
            }
          },
          "metadata": {},
          "execution_count": 14
        }
      ]
    },
    {
      "cell_type": "markdown",
      "id": "2e129c7a31663741",
      "metadata": {
        "collapsed": false,
        "id": "2e129c7a31663741"
      },
      "source": [
        "# Word2Vec - Word Embedding"
      ]
    },
    {
      "cell_type": "code",
      "execution_count": null,
      "id": "8d15b31459fd1e5",
      "metadata": {
        "colab": {
          "base_uri": "https://localhost:8080/"
        },
        "id": "8d15b31459fd1e5",
        "outputId": "ffacbae4-8fb3-4757-b4b1-eb97686699d8"
      },
      "outputs": [
        {
          "output_type": "stream",
          "name": "stdout",
          "text": [
            "fasttext-wiki-news-subwords-300\n",
            "conceptnet-numberbatch-17-06-300\n",
            "word2vec-ruscorpora-300\n",
            "word2vec-google-news-300\n",
            "glove-wiki-gigaword-50\n",
            "glove-wiki-gigaword-100\n",
            "glove-wiki-gigaword-200\n",
            "glove-wiki-gigaword-300\n",
            "glove-twitter-25\n",
            "glove-twitter-50\n",
            "glove-twitter-100\n",
            "glove-twitter-200\n",
            "__testing_word2vec-matrix-synopsis\n"
          ]
        }
      ],
      "source": [
        "import gensim.downloader as api\n",
        "print(\"\\n\".join(api.info()['models'].keys()))"
      ]
    },
    {
      "cell_type": "code",
      "execution_count": null,
      "id": "55bbe6faa1226b8d",
      "metadata": {
        "id": "55bbe6faa1226b8d",
        "colab": {
          "base_uri": "https://localhost:8080/"
        },
        "outputId": "3b97bbcc-ade7-435a-dce0-66326a0aa7ca"
      },
      "outputs": [
        {
          "output_type": "stream",
          "name": "stdout",
          "text": [
            "Downloading Word2Vec model...\n",
            "[==================================================] 100.0% 1662.8/1662.8MB downloaded\n",
            "Word2vec model is downloaded.\n",
            "\n",
            "Saving Word2Vec model...\n",
            "Word2Vec model is saved.\n"
          ]
        }
      ],
      "source": [
        "W2V_PATH = './w2v' # Path to W2V if downloaded\n",
        "if W2V_PATH is not None and os.path.exists(W2V_PATH):\n",
        "    print(\"Loading Word2Vec model...\")\n",
        "    w2v_model = gensim.models.KeyedVectors.load(W2V_PATH, mmap='r')\n",
        "    print(\"Word2Vec model is loaded.\")\n",
        "else:\n",
        "    print(\"Downloading Word2Vec model...\")\n",
        "    w2v_model = api.load(\"word2vec-google-news-300\")\n",
        "    print(\"Word2vec model is downloaded.\")\n",
        "    if W2V_PATH is not None:\n",
        "      print(\"\\nSaving Word2Vec model...\")\n",
        "      w2v_model.save(W2V_PATH)\n",
        "      print(\"Word2Vec model is saved.\")"
      ]
    },
    {
      "cell_type": "code",
      "source": [
        "W2V_PATH = './w2v'\n",
        "w2v_model.save(W2V_PATH)"
      ],
      "metadata": {
        "id": "ESgUGbkjoaZD"
      },
      "id": "ESgUGbkjoaZD",
      "execution_count": null,
      "outputs": []
    },
    {
      "cell_type": "code",
      "execution_count": null,
      "id": "7d53926889defc38",
      "metadata": {
        "id": "7d53926889defc38"
      },
      "outputs": [],
      "source": [
        "EMBEDDING_VECTOR_DIM = w2v_model.vector_size"
      ]
    },
    {
      "cell_type": "markdown",
      "source": [
        "#### Handling Out-of-Vocabulary (OOV) Words"
      ],
      "metadata": {
        "id": "3cwOieHJfF8d"
      },
      "id": "3cwOieHJfF8d"
    },
    {
      "cell_type": "markdown",
      "source": [
        "1. **Default Zero-Vector:**\n",
        "    - **Pros**:\n",
        "        - **Simplicity:** Easy to implement, requiring minimal additional processing.\n",
        "        - **Consistency:** Ensures that all OOV words have the same vector representation, maintaining uniform vector dimensions across the dataset.\n",
        "        - **Avoids Noise:** Unlike random vectors, zero-vectors do not introduce noise into the model.\n",
        "\n",
        "    - **Cons**:\n",
        "        - **Loss of Information:** Zero-vectors carry no semantic information, which means the model loses the potential contextual meaning of the OOV words.\n",
        "        - **Bias Towards Known Words:** The model might overly rely on known words, as OOV words contribute nothing to the feature space.\n",
        "        - **Potential for Misleading Results:** In some cases, having too many zero-vectors can make sentences appear artificially similar, which might mislead the model during training.\n",
        "\n",
        "\n",
        "2. **Ignore OOV Words**\n",
        "    - **Pros:**\n",
        "        - **Simplicity:** Easy to implement, with no additional processing required.\n",
        "        - **Efficiency:** Reduces computational load by not processing unknown words.\n",
        "\n",
        "    - **Cons:**\n",
        "        - **Loss of Information:** May lose important contextual information.\n",
        "        - **Incomplete Context:** Sentences with many OOV words might become less meaningful.\n",
        "\n",
        "\n",
        "3. **Use a Random Vector**\n",
        "Generate a random vector for OOV words.\n",
        "\n",
        "    - **Pros:**\n",
        "        - **Continuity:** Maintains vector size consistency for all words.\n",
        "        - **Diversity:** Random vectors might help models to generalize.\n",
        "\n",
        "    - **Cons:**\n",
        "        - **Inconsistency:** Random vectors lack semantic meaning and consistency.\n",
        "        - **Model Instability:** Introduces noise, which can degrade model performance.\n",
        "\n",
        "\n",
        "4. **Use a Special Token**\n",
        "Replace OOV words with a special token (e.g., `<UNK>`).\n",
        "\n",
        "    - **Pros:**\n",
        "        - **Simplicity:** Easy to implement and understand.\n",
        "        - **Consistency:** Ensures consistent handling of all OOV words.\n",
        "\n",
        "    - **Cons:**\n",
        "        - **Loss of Specificity:** Treats all OOV words the same, losing specific contextual meaning.\n",
        "        - **Contextual Disruption:** Frequent `<UNK>` tokens can disrupt the context.\n",
        "\n",
        "\n",
        "5. **Subword Embeddings**\n",
        "Use subword information to generate embeddings (e.g., FastText).\n",
        "\n",
        "    - **Pros:**\n",
        "        - **Coverage:** Handles many OOV words by breaking them into subwords.\n",
        "        - **Semantic Consistency:** Provides meaningful embeddings based on subword structure.\n",
        "\n",
        "    - **Cons:**\n",
        "        - **Complexity:** More complex to implement compared to simple word vectors.\n",
        "        - **Performance Overhead:** Slightly more computationally intensive."
      ],
      "metadata": {
        "id": "KBy3Xnb9fQO1"
      },
      "id": "KBy3Xnb9fQO1"
    },
    {
      "cell_type": "markdown",
      "id": "21730f8dd01e5b4e",
      "metadata": {
        "collapsed": false,
        "id": "21730f8dd01e5b4e"
      },
      "source": [
        "# Dataset"
      ]
    },
    {
      "cell_type": "code",
      "execution_count": null,
      "id": "xdqLYrA4xjuX",
      "metadata": {
        "id": "xdqLYrA4xjuX"
      },
      "outputs": [],
      "source": [
        "class Twitter(Dataset):\n",
        "    def __init__(self, dataframe: pd.DataFrame, w2v_model: gensim.models.KeyedVectors, sequence_len: int):\n",
        "        self.dataframe = dataframe\n",
        "        self.w2v_model = w2v_model\n",
        "        self.max_sequence_len = sequence_len\n",
        "        self.vector_size = w2v_model.vector_size\n",
        "\n",
        "        self.df_token_col = \"tokens\"\n",
        "\n",
        "\n",
        "        self._proc_dataset()\n",
        "\n",
        "        self.len = len(self.dataframe)\n",
        "\n",
        "    def __len__(self):\n",
        "        return self.len\n",
        "\n",
        "    def __getitem__(self, idx):\n",
        "        return self.dataframe.iloc[idx][\"vector\"], self.dataframe.iloc[idx][\"intention\"]\n",
        "\n",
        "    def get_vector_size(self):\n",
        "        return self.vector_size\n",
        "\n",
        "    def _proc_dataset(self):\n",
        "        # Preprocess and return tokens list\n",
        "        self.dataframe[self.df_token_col] = self.dataframe[\"tweet\"].map(preprocess_data)\n",
        "\n",
        "        # delete samples with empty tokens\n",
        "        lwz = len(self.dataframe)\n",
        "        self.dataframe = self.dataframe[self.dataframe[self.df_token_col].map(len) > 0]\n",
        "        self.dataframe.reset_index(drop=True, inplace=True)\n",
        "        print(f\"Deleted 0-Len Samples: {lwz - len(self.dataframe)}\")\n",
        "\n",
        "        # Add padding\n",
        "        self.dataframe[self.df_token_col] = self.dataframe[self.df_token_col].map(self._pad)\n",
        "\n",
        "        # Get embedding's vectors\n",
        "        self.dataframe[\"vector\"] = self.dataframe[self.df_token_col].map(self._get_word_vectors)\n",
        "\n",
        "    def _get_word_vectors(self, tokens: list) -> torch.tensor:\n",
        "        # Convert tokens to their corresponding word vectors\n",
        "        vectors = []\n",
        "        for token in tokens:\n",
        "            # print(token, type(token))\n",
        "            if token in self.w2v_model:\n",
        "                vectors.append(self.w2v_model[token])\n",
        "            else:\n",
        "                vectors.append([0] * self.vector_size)\n",
        "        return torch.tensor(vectors, dtype=torch.float)\n",
        "\n",
        "\n",
        "    def _pad(self, tokens: list):\n",
        "        # Add paddings (zero-vectors) into the end of sequence to reach the desired length\n",
        "        padded_tokens = tokens[:self.max_sequence_len]\n",
        "        # print(tokens, type(tokens))\n",
        "        if len(padded_tokens) < self.max_sequence_len:\n",
        "            padded_tokens.extend([0] * (self.max_sequence_len - len(padded_tokens)))\n",
        "        return padded_tokens\n",
        "\n",
        "    def seq_report(self):\n",
        "        length_all = self.dataframe[self.df_token_col].map(len).tolist()\n",
        "        max_length = np.max(length_all)\n",
        "        print(f\"Sequence Length Report\")\n",
        "        print(f\":::::MAX  LENGTH:::[{max_length:^5}]\")\n",
        "        print(f\":::::MIN  LENGTH:::[{np.min(length_all):^5}]\")\n",
        "        print(f\":::::MEAN LENGTH:::[{np.mean(length_all):^5}]\")\n",
        "\n",
        "        all_tokens = set()\n",
        "        for token_set in self.dataframe[self.df_token_col].tolist():\n",
        "            all_tokens = all_tokens.union(set(token_set))\n",
        "        unique_tokens_count = len(all_tokens)\n",
        "        valid_tokens = sum(1 if token in self.w2v_model else 0 for token in all_tokens)\n",
        "        print(\"Sequence Tokenization Report\")\n",
        "        print(f\":::::All Unique Tokens:::[{unique_tokens_count:^6}\")\n",
        "        print(f\":::::All Valid Tokens:::[{valid_tokens:^6}\")\n",
        "        print(f\":::::Valid Tokens:::[{round(100*valid_tokens/unique_tokens_count, 2):^5}%]\")\n",
        "\n",
        "    @staticmethod\n",
        "    def _to_tensor(tokens: list):\n",
        "        return torch.tensor(tokens, dtype=torch.float32)"
      ]
    },
    {
      "cell_type": "markdown",
      "id": "4b87e7e8b267a1c8",
      "metadata": {
        "collapsed": false,
        "id": "4b87e7e8b267a1c8"
      },
      "source": [
        "# Prepare Data"
      ]
    },
    {
      "cell_type": "markdown",
      "id": "bd00ab880892e646",
      "metadata": {
        "collapsed": false,
        "id": "bd00ab880892e646"
      },
      "source": [
        "## Split Data into train-valid"
      ]
    },
    {
      "cell_type": "code",
      "execution_count": null,
      "id": "6a54facda2729872",
      "metadata": {
        "id": "6a54facda2729872"
      },
      "outputs": [],
      "source": [
        "from sklearn.model_selection import train_test_split\n",
        "\n",
        "train_data, test_data = train_test_split(data, test_size=0.1, random_state=42)"
      ]
    },
    {
      "cell_type": "markdown",
      "id": "670fcd8db0e5651c",
      "metadata": {
        "collapsed": false,
        "id": "670fcd8db0e5651c"
      },
      "source": [
        "## Create Datasets"
      ]
    },
    {
      "cell_type": "code",
      "source": [
        "train_data['tweet'].iloc[0]\n"
      ],
      "metadata": {
        "colab": {
          "base_uri": "https://localhost:8080/",
          "height": 70
        },
        "id": "PG9Yap83ENsx",
        "outputId": "ed218f80-b9d6-45eb-f098-a140d527d7d4"
      },
      "id": "PG9Yap83ENsx",
      "execution_count": null,
      "outputs": [
        {
          "data": {
            "application/vnd.google.colaboratory.intrinsic+json": {
              "type": "string"
            },
            "text/plain": [
              "'am i wrong my now ex boyfriend broke up with me so that he can figure life out he was the only reason i liked being alive he was my flame i had something to look forward to i had a reason to improve myself without him i have no desire to live no desire to improve myself i have nothing i get that it is unfair to him but i cant help that i cant find any internal motivations to live i just dont know what to do and i dont know what will happen if he doesnt come back '"
            ]
          },
          "execution_count": 21,
          "metadata": {},
          "output_type": "execute_result"
        }
      ]
    },
    {
      "cell_type": "code",
      "execution_count": null,
      "id": "3e4a5b690afadad5",
      "metadata": {
        "id": "3e4a5b690afadad5",
        "colab": {
          "base_uri": "https://localhost:8080/"
        },
        "outputId": "4436ae6e-0ab3-4fac-c94a-e8e0599b55a2"
      },
      "outputs": [
        {
          "metadata": {
            "tags": null
          },
          "name": "stdout",
          "output_type": "stream",
          "text": [
            "Deleted 0-Len Samples: 30\n"
          ]
        },
        {
          "output_type": "stream",
          "name": "stderr",
          "text": [
            "<ipython-input-19-3c15f66c9c2c>:35: SettingWithCopyWarning: \n",
            "A value is trying to be set on a copy of a slice from a DataFrame.\n",
            "Try using .loc[row_indexer,col_indexer] = value instead\n",
            "\n",
            "See the caveats in the documentation: https://pandas.pydata.org/pandas-docs/stable/user_guide/indexing.html#returning-a-view-versus-a-copy\n",
            "  self.dataframe[self.df_token_col] = self.dataframe[self.df_token_col].map(self._pad)\n",
            "<ipython-input-19-3c15f66c9c2c>:49: UserWarning: Creating a tensor from a list of numpy.ndarrays is extremely slow. Please consider converting the list to a single numpy.ndarray with numpy.array() before converting to a tensor. (Triggered internally at ../torch/csrc/utils/tensor_new.cpp:274.)\n",
            "  return torch.tensor(vectors, dtype=torch.float)\n",
            "<ipython-input-19-3c15f66c9c2c>:38: SettingWithCopyWarning: \n",
            "A value is trying to be set on a copy of a slice from a DataFrame.\n",
            "Try using .loc[row_indexer,col_indexer] = value instead\n",
            "\n",
            "See the caveats in the documentation: https://pandas.pydata.org/pandas-docs/stable/user_guide/indexing.html#returning-a-view-versus-a-copy\n",
            "  self.dataframe[\"vector\"] = self.dataframe[self.df_token_col].map(self._get_word_vectors)\n"
          ]
        },
        {
          "output_type": "stream",
          "name": "stdout",
          "text": [
            "Deleted 0-Len Samples: 7\n"
          ]
        },
        {
          "output_type": "stream",
          "name": "stderr",
          "text": [
            "<ipython-input-19-3c15f66c9c2c>:35: SettingWithCopyWarning: \n",
            "A value is trying to be set on a copy of a slice from a DataFrame.\n",
            "Try using .loc[row_indexer,col_indexer] = value instead\n",
            "\n",
            "See the caveats in the documentation: https://pandas.pydata.org/pandas-docs/stable/user_guide/indexing.html#returning-a-view-versus-a-copy\n",
            "  self.dataframe[self.df_token_col] = self.dataframe[self.df_token_col].map(self._pad)\n"
          ]
        },
        {
          "output_type": "stream",
          "name": "stdout",
          "text": [
            "Train dataset length: 8177\n",
            "Test dataset length: 905\n"
          ]
        },
        {
          "output_type": "stream",
          "name": "stderr",
          "text": [
            "<ipython-input-19-3c15f66c9c2c>:38: SettingWithCopyWarning: \n",
            "A value is trying to be set on a copy of a slice from a DataFrame.\n",
            "Try using .loc[row_indexer,col_indexer] = value instead\n",
            "\n",
            "See the caveats in the documentation: https://pandas.pydata.org/pandas-docs/stable/user_guide/indexing.html#returning-a-view-versus-a-copy\n",
            "  self.dataframe[\"vector\"] = self.dataframe[self.df_token_col].map(self._get_word_vectors)\n"
          ]
        }
      ],
      "source": [
        "sequence_len = 64\n",
        "\n",
        "train_dataset = Twitter(\n",
        "    train_data,\n",
        "    w2v_model,\n",
        "    sequence_len\n",
        ")\n",
        "test_dataset = Twitter(\n",
        "    test_data,\n",
        "    w2v_model,\n",
        "    sequence_len\n",
        ")\n",
        "print(f\"Train dataset length: {len(train_dataset)}\")\n",
        "print(f\"Test dataset length: {len(test_dataset)}\")\n",
        "# print(f\"Valid dataset length: {len(valid_dataset)}\")\n"
      ]
    },
    {
      "cell_type": "code",
      "source": [
        "sequence_len = 196\n",
        "\n",
        "train_dataset_2 = Twitter(\n",
        "    train_data,\n",
        "    w2v_model,\n",
        "    sequence_len\n",
        ")\n",
        "test_dataset_2 = Twitter(\n",
        "    test_data,\n",
        "    w2v_model,\n",
        "    sequence_len\n",
        ")"
      ],
      "metadata": {
        "id": "ddOLO127prpa"
      },
      "id": "ddOLO127prpa",
      "execution_count": null,
      "outputs": []
    },
    {
      "cell_type": "markdown",
      "id": "fd1da733e79676ff",
      "metadata": {
        "collapsed": false,
        "id": "fd1da733e79676ff"
      },
      "source": [
        "# Model and Train"
      ]
    },
    {
      "cell_type": "markdown",
      "id": "aa29012e257e3d9",
      "metadata": {
        "collapsed": false,
        "id": "aa29012e257e3d9"
      },
      "source": [
        "## Utils"
      ]
    },
    {
      "cell_type": "code",
      "execution_count": null,
      "id": "d5b33657ae501516",
      "metadata": {
        "id": "d5b33657ae501516"
      },
      "outputs": [],
      "source": [
        "@torch.no_grad()\n",
        "def model_eval(\n",
        "        model,\n",
        "        loader,\n",
        "        loss_function,\n",
        "        device: str = 'auto'\n",
        "):\n",
        "    \"\"\"Returns test_loss, test_acc\"\"\"\n",
        "    test_loss = 0.0\n",
        "    test_acc = 0.0\n",
        "    total_samples = 0\n",
        "    correct_samples = 0\n",
        "\n",
        "    if device == \"auto\":\n",
        "        device = torch.device(\"cuda\" if torch.cuda.is_available() else \"cpu\")\n",
        "\n",
        "    model = model.to(device)\n",
        "    itr = tqdm(loader, total=len(loader), leave=True)\n",
        "\n",
        "    for inputs, labels in itr:\n",
        "        # Move model's inputs and labels to `device`\n",
        "        inputs, labels = inputs.to(device), labels.to(device)\n",
        "\n",
        "        # Use model's forward pass to generate outputs\n",
        "        outputs = model(inputs)\n",
        "\n",
        "        # Calculate model's loss\n",
        "        loss = loss_function(outputs, labels)\n",
        "        test_loss += loss.item()\n",
        "\n",
        "        # Calculate/update model's accuracy\n",
        "        _, predicted = torch.max(outputs, 1)\n",
        "        correct_samples += (predicted == labels).sum().item()\n",
        "        total_samples += labels.size(0)\n",
        "        test_acc = correct_samples / total_samples\n",
        "\n",
        "        itr.set_description(\"(Eval)\")\n",
        "        itr.set_postfix(\n",
        "            loss=round(loss.item(), 5),\n",
        "            accuracy=round(test_acc, 5),\n",
        "        )\n",
        "    test_loss /= len(itr)\n",
        "    return test_loss, test_acc\n"
      ]
    },
    {
      "cell_type": "code",
      "execution_count": null,
      "id": "1bc1edee98f616b5",
      "metadata": {
        "id": "1bc1edee98f616b5"
      },
      "outputs": [],
      "source": [
        "def train_model(\n",
        "        model,\n",
        "        batch_size,\n",
        "        loss_function,\n",
        "        optimizer,\n",
        "        epochs,\n",
        "        train_set,\n",
        "        test_set,\n",
        "        device: str = 'auto',\n",
        "):\n",
        "\n",
        "    if device == \"auto\":\n",
        "        device = torch.device(\"cuda\" if torch.cuda.is_available() else \"cpu\")\n",
        "    model.to(device)\n",
        "\n",
        "    train_losses = []\n",
        "    train_accs = []\n",
        "    test_losses = []\n",
        "    test_accs = []\n",
        "\n",
        "    train_loader = DataLoader(train_set, batch_size=batch_size, shuffle=True)\n",
        "    test_loader = DataLoader(test_set, batch_size=batch_size, shuffle=False)\n",
        "\n",
        "    # itr = tqdm(train_loader, total=len(train_loader), leave=False)\n",
        "    for epoch in range(epochs):\n",
        "        model.train()\n",
        "        epoch_loss = 0\n",
        "        epoch_acc = 0\n",
        "        epoch_correct = 0\n",
        "        epoch_total = 0\n",
        "        itr = tqdm(train_loader, total=len(train_loader), leave=True, desc=f\"(Training) Epoch [{epoch + 1}/{epochs}]\")\n",
        "\n",
        "        for idx, (inputs, labels) in enumerate(itr, start=1):\n",
        "            # Move model's inputs to `device`\n",
        "            inputs, labels = inputs.to(device), labels.to(device)\n",
        "\n",
        "            # Use model's forward pass to generate outputs\n",
        "            outputs = model(inputs)\n",
        "\n",
        "            # Process model's predictions and calculate/update accuracy\n",
        "            _, predicted = torch.max(outputs, 1)\n",
        "            epoch_correct += (predicted == labels).sum().item()\n",
        "            epoch_total += labels.size(0)\n",
        "            epoch_acc = epoch_correct / epoch_total\n",
        "\n",
        "            # Calculate model's loss and update epoch's loss\n",
        "            loss = loss_function(outputs, labels)\n",
        "            epoch_loss += loss.item()\n",
        "\n",
        "            # Clear optimizer's state and zero prev grads, backward calculated loss, step optimizer\n",
        "            optimizer.zero_grad()\n",
        "            loss.backward()\n",
        "            optimizer.step()\n",
        "\n",
        "            itr.set_description(f\"(Training) Epoch [{epoch + 1}/{epochs}]\")\n",
        "            itr.set_postfix(\n",
        "                loss=round(loss.item(), 5),\n",
        "                accuracy=round(epoch_acc, 5),\n",
        "            )\n",
        "\n",
        "        epoch_loss /= len(itr)\n",
        "\n",
        "        model.eval()\n",
        "\n",
        "        test_loss, test_acc = model_eval(\n",
        "            model=model,\n",
        "            loader=test_loader,\n",
        "            loss_function=loss_function,\n",
        "            device=device\n",
        "        )\n",
        "\n",
        "        # Update statistics regarding model's loss and acc in training or testation phases\n",
        "        train_losses.append(epoch_loss)\n",
        "        train_accs.append(epoch_acc)\n",
        "        test_losses.append(test_loss)\n",
        "        test_accs.append(test_acc)\n",
        "\n",
        "\n",
        "    history = {\n",
        "      \"train_loss\": train_losses,\n",
        "      \"train_acc\": train_accs,\n",
        "\n",
        "      \"test_loss\": test_losses,\n",
        "      \"test_acc\": test_accs,\n",
        "    }\n",
        "    return history"
      ]
    },
    {
      "cell_type": "code",
      "execution_count": null,
      "id": "6e5acc20a7d5d446",
      "metadata": {
        "id": "6e5acc20a7d5d446"
      },
      "outputs": [],
      "source": [
        "def trend_plot_helper(pobj):\n",
        "    plt.figure(figsize=(5*len(pobj), 5))\n",
        "    for idx, (titler, plots) in enumerate(pobj.items(), start=1):\n",
        "        plt.subplot(1, len(pobj), idx)\n",
        "        for label, trend in plots:\n",
        "            plt.plot(range(1, len(trend)+1), trend, label=label)\n",
        "        yt, xt = titler.split(' - ')\n",
        "        plt.xlabel(xt)\n",
        "        plt.ylabel(yt)\n",
        "        plt.legend()"
      ]
    },
    {
      "cell_type": "code",
      "execution_count": null,
      "id": "819f88c36492de48",
      "metadata": {
        "id": "819f88c36492de48"
      },
      "outputs": [],
      "source": [
        "@torch.no_grad()\n",
        "def generate_confusion_matrix(model, dataset, device='auto'):\n",
        "    if device == 'auto':\n",
        "        device = torch.device(\"cuda\" if torch.cuda.is_available() else \"cpu\")\n",
        "    model = model.to(device)\n",
        "\n",
        "    loader = DataLoader(dataset, batch_size=32, shuffle=False)\n",
        "    itr = tqdm(loader, leave=False, desc=\"Generate data\")\n",
        "\n",
        "    true_labels = []\n",
        "    predicted_labels = []\n",
        "\n",
        "    for inputs, labels in itr:\n",
        "        inputs, labels = inputs.to(device), labels.to(device)\n",
        "\n",
        "        outputs = model(inputs)\n",
        "        _, predicted = torch.max(outputs, 1)\n",
        "\n",
        "        true_labels.extend(labels.cpu().numpy())\n",
        "        predicted_labels.extend(predicted.cpu().numpy())\n",
        "\n",
        "    cm = metrics.confusion_matrix(\n",
        "        y_true=true_labels,\n",
        "        y_pred=predicted_labels,\n",
        "    )\n",
        "\n",
        "    plt.figure(figsize=(10,10))\n",
        "    sns.heatmap(cm, cmap='Blues', annot=True, cbar=False, fmt=\".0f\",)\n",
        "    plt.xlabel('Predicted Label', labelpad=20)\n",
        "    plt.ylabel('True Label', labelpad=20)\n",
        "    plt.title('Confusion Matrix', fontsize=30)\n",
        "\n",
        "    recall = metrics.recall_score(y_true=true_labels, y_pred=predicted_labels, average='macro')\n",
        "    f1 = metrics.f1_score(y_true=true_labels, y_pred=predicted_labels, average='macro')\n",
        "    precision = metrics.precision_score(y_true=true_labels, y_pred=predicted_labels, average='macro')\n",
        "    report = metrics.classification_report(y_true=true_labels, y_pred=predicted_labels)\n",
        "\n",
        "    return {'recall': recall, 'f1': f1, 'precision': precision, 'report': report}\n"
      ]
    },
    {
      "cell_type": "markdown",
      "id": "1566b2a8428318c8",
      "metadata": {
        "collapsed": false,
        "id": "1566b2a8428318c8"
      },
      "source": [
        "## Model's Network"
      ]
    },
    {
      "cell_type": "code",
      "execution_count": null,
      "id": "a2ed27ccf8d0307c",
      "metadata": {
        "id": "a2ed27ccf8d0307c"
      },
      "outputs": [],
      "source": [
        "import torch\n",
        "import torch.nn as nn\n",
        "import torch.nn.functional as F\n",
        "\n",
        "class CNN(nn.Module):\n",
        "    def __init__(self, context=64, reg=False):\n",
        "        super(CNN, self).__init__()\n",
        "        self.reg = reg\n",
        "        # # Layer 1\n",
        "        self.conv1_3 = nn.Conv1d(in_channels=context, out_channels=64, kernel_size=3, padding=1)\n",
        "        self.conv1_5 = nn.Conv1d(in_channels=context, out_channels=64, kernel_size=5, padding=2)\n",
        "        self.conv1_7 = nn.Conv1d(in_channels=context, out_channels=64, kernel_size=7, padding=3)\n",
        "\n",
        "        # Batch Normalization layer\n",
        "        self.bn1_3 = nn.BatchNorm1d(64)\n",
        "        self.bn1_5 = nn.BatchNorm1d(64)\n",
        "        self.bn1_7 = nn.BatchNorm1d(64)\n",
        "\n",
        "        # Dropout layer\n",
        "        self.dropout = nn.Dropout(0.5)\n",
        "\n",
        "        # Layer 2\n",
        "        self.conv2_3 = nn.Conv1d(in_channels=64, out_channels=128, kernel_size=3, padding=1)\n",
        "        self.conv2_5 = nn.Conv1d(in_channels=64, out_channels=128, kernel_size=5, padding=2)\n",
        "        self.conv2_7 = nn.Conv1d(in_channels=64, out_channels=128, kernel_size=7, padding=3)\n",
        "\n",
        "\n",
        "        # Batch Normalization layer\n",
        "        self.bn2_3 = nn.BatchNorm1d(128)\n",
        "        self.bn2_5 = nn.BatchNorm1d(128)\n",
        "        self.bn2_7 = nn.BatchNorm1d(128)\n",
        "\n",
        "        # Max Pooling layer after the second convolutional layer\n",
        "        self.maxpool = nn.MaxPool1d(kernel_size=2)\n",
        "\n",
        "        # Global average pooling\n",
        "        self.global_avg_pool = nn.AdaptiveAvgPool1d(1)\n",
        "\n",
        "        # Flatten layer\n",
        "        self.flatten = nn.Flatten()\n",
        "\n",
        "        # Fully connected layers\n",
        "        self.fc1 = nn.Linear(3 * 128, 128)\n",
        "        self.fc2 = nn.Linear(128, 2)\n",
        "\n",
        "    def forward(self, x):\n",
        "        # Layer 1\n",
        "        x1_3 = F.relu(self.conv1_3(x))\n",
        "        x1_5 = F.relu(self.conv1_5(x))\n",
        "        x1_7 = F.relu(self.conv1_7(x))\n",
        "\n",
        "        if (self.reg):\n",
        "          x1_3 = self.dropout(x1_3)\n",
        "          x1_5 = self.dropout(x1_5)\n",
        "          x1_7 = self.dropout(x1_7)\n",
        "\n",
        "        # Layer 2\n",
        "        x2_3 = None\n",
        "        x2_5 = None\n",
        "        x2_7 = None\n",
        "\n",
        "        if (self.reg):\n",
        "          x2_3 = F.relu(self.bn2_3(self.conv2_3(x1_3)))\n",
        "          x2_5 = F.relu(self.bn2_5(self.conv2_5(x1_5)))\n",
        "          x2_7 = F.relu(self.bn2_7(self.conv2_7(x1_7)))\n",
        "\n",
        "        else:\n",
        "          x2_3 = F.relu(self.conv2_3(x1_3))\n",
        "          x2_5 = F.relu(self.conv2_5(x1_5))\n",
        "          x2_7 = F.relu(self.conv2_7(x1_7))\n",
        "\n",
        "        if (self.reg):\n",
        "          x2_3 = self.dropout(x2_3)\n",
        "          x2_5 = self.dropout(x2_5)\n",
        "          x2_7 = self.dropout(x2_7)\n",
        "\n",
        "        # Apply max pooling after the second convolutional layers\n",
        "        x2_3 = self.maxpool(x2_3)\n",
        "        x2_5 = self.maxpool(x2_5)\n",
        "        x2_7 = self.maxpool(x2_7)\n",
        "\n",
        "        # Apply global average pooling\n",
        "        x2_3 = self.global_avg_pool(x2_3)\n",
        "        x2_5 = self.global_avg_pool(x2_5)\n",
        "        x2_7 = self.global_avg_pool(x2_7)\n",
        "\n",
        "        # Concatenate the outputs of layer 2 convolutional layers along the channel dimension\n",
        "        x = torch.cat((x2_3, x2_5, x2_7), dim=1)\n",
        "\n",
        "        # Flatten layer\n",
        "        x = self.flatten(x)\n",
        "\n",
        "        # Fully connected layers\n",
        "        x = F.relu(self.fc1(x))\n",
        "        x = self.fc2(x)\n",
        "\n",
        "        # Output layer (no activation, as we'll apply softmax in the loss function)\n",
        "        return x\n"
      ]
    },
    {
      "cell_type": "markdown",
      "source": [
        "## Training"
      ],
      "metadata": {
        "id": "-XhOZ_qwF6Bh"
      },
      "id": "-XhOZ_qwF6Bh"
    },
    {
      "cell_type": "markdown",
      "source": [
        "### Window-Context = 64 ; Regularization = False"
      ],
      "metadata": {
        "id": "_kfZ5u4NpLlb"
      },
      "id": "_kfZ5u4NpLlb"
    },
    {
      "cell_type": "code",
      "execution_count": null,
      "id": "a57ddcb0836683ec",
      "metadata": {
        "colab": {
          "base_uri": "https://localhost:8080/"
        },
        "id": "a57ddcb0836683ec",
        "outputId": "c59456cb-2f66-4c1f-af4b-ba40e1e969d8"
      },
      "outputs": [
        {
          "output_type": "stream",
          "name": "stderr",
          "text": [
            "(Training) Epoch [1/10]: 100%|██████████| 256/256 [00:06<00:00, 42.63it/s, accuracy=0.835, loss=0.195]\n",
            "(Eval): 100%|██████████| 29/29 [00:00<00:00, 65.66it/s, accuracy=0.85, loss=0.8]\n",
            "(Training) Epoch [2/10]: 100%|██████████| 256/256 [00:05<00:00, 49.37it/s, accuracy=0.844, loss=0.405]\n",
            "(Eval): 100%|██████████| 29/29 [00:00<00:00, 58.85it/s, accuracy=0.852, loss=0.636]\n",
            "(Training) Epoch [3/10]: 100%|██████████| 256/256 [00:04<00:00, 56.96it/s, accuracy=0.851, loss=0.369]\n",
            "(Eval): 100%|██████████| 29/29 [00:00<00:00, 72.65it/s, accuracy=0.848, loss=0.563]\n",
            "(Training) Epoch [4/10]: 100%|██████████| 256/256 [00:04<00:00, 57.73it/s, accuracy=0.853, loss=0.266]\n",
            "(Eval): 100%|██████████| 29/29 [00:00<00:00, 72.65it/s, accuracy=0.851, loss=0.749]\n",
            "(Training) Epoch [5/10]: 100%|██████████| 256/256 [00:05<00:00, 50.01it/s, accuracy=0.856, loss=0.447]\n",
            "(Eval): 100%|██████████| 29/29 [00:00<00:00, 62.61it/s, accuracy=0.853, loss=0.89]\n",
            "(Training) Epoch [6/10]: 100%|██████████| 256/256 [00:04<00:00, 53.40it/s, accuracy=0.862, loss=0.304]\n",
            "(Eval): 100%|██████████| 29/29 [00:00<00:00, 69.88it/s, accuracy=0.85, loss=0.707]\n",
            "(Training) Epoch [7/10]: 100%|██████████| 256/256 [00:04<00:00, 59.05it/s, accuracy=0.864, loss=0.0843]\n",
            "(Eval): 100%|██████████| 29/29 [00:00<00:00, 71.40it/s, accuracy=0.849, loss=0.624]\n",
            "(Training) Epoch [8/10]: 100%|██████████| 256/256 [00:04<00:00, 52.40it/s, accuracy=0.864, loss=0.138]\n",
            "(Eval): 100%|██████████| 29/29 [00:00<00:00, 55.83it/s, accuracy=0.85, loss=0.801]\n",
            "(Training) Epoch [9/10]: 100%|██████████| 256/256 [00:04<00:00, 55.14it/s, accuracy=0.865, loss=0.214]\n",
            "(Eval): 100%|██████████| 29/29 [00:00<00:00, 71.28it/s, accuracy=0.854, loss=0.944]\n",
            "(Training) Epoch [10/10]: 100%|██████████| 256/256 [00:04<00:00, 58.30it/s, accuracy=0.869, loss=0.258]\n",
            "(Eval): 100%|██████████| 29/29 [00:00<00:00, 74.37it/s, accuracy=0.843, loss=1.12]\n"
          ]
        }
      ],
      "source": [
        "model = CNN(64)\n",
        "\n",
        "batch_size = 32\n",
        "num_epochs = 10\n",
        "\n",
        "criterion = nn.CrossEntropyLoss()\n",
        "\n",
        "optimizer = optim.Adam(model.parameters(), lr=0.001)\n",
        "\n",
        "# Training history\n",
        "cnn_model_train_history = train_model(\n",
        "    model=model,\n",
        "    batch_size=batch_size,\n",
        "    loss_function=criterion,\n",
        "    optimizer=optimizer,\n",
        "    epochs=num_epochs,\n",
        "    train_set=train_dataset,\n",
        "    test_set=test_dataset\n",
        ")"
      ]
    },
    {
      "cell_type": "code",
      "execution_count": null,
      "id": "ac375ced89f224ce",
      "metadata": {
        "id": "ac375ced89f224ce",
        "colab": {
          "base_uri": "https://localhost:8080/",
          "height": 465
        },
        "outputId": "1f9e72a2-b6fb-4249-e9fa-9b21c3e1cdb1"
      },
      "outputs": [
        {
          "output_type": "display_data",
          "data": {
            "text/plain": [
              "<Figure size 1000x500 with 2 Axes>"
            ],
            "image/png": "[encoded data removed]"
          },
          "metadata": {}
        }
      ],
      "source": [
        "trend_plot_helper(\n",
        "    {\n",
        "        \"Accuracy - Epoch\": [\n",
        "            (\"Train Acc\", cnn_model_train_history[\"train_acc\"]),\n",
        "            (\"Test Acc\", cnn_model_train_history[\"test_acc\"]),\n",
        "        ],\n",
        "        \"Loss - Epoch\": [\n",
        "            (\"Train Loss\", cnn_model_train_history[\"train_loss\"]),\n",
        "            (\"Test Loss\", cnn_model_train_history[\"test_loss\"])\n",
        "        ]\n",
        "    }\n",
        ")"
      ]
    },
    {
      "cell_type": "code",
      "execution_count": null,
      "id": "a09473d5783fa70f",
      "metadata": {
        "id": "a09473d5783fa70f",
        "colab": {
          "base_uri": "https://localhost:8080/",
          "height": 914
        },
        "outputId": "d0579b52-62f2-440e-8e0f-0de77482b75d"
      },
      "outputs": [
        {
          "output_type": "stream",
          "name": "stderr",
          "text": []
        },
        {
          "output_type": "display_data",
          "data": {
            "text/plain": [
              "<Figure size 1000x1000 with 1 Axes>"
            ],
            "image/png": "[encoded data removed]"
          },
          "metadata": {}
        }
      ],
      "source": [
        "cnn_model_report = generate_confusion_matrix(\n",
        "    model=model,\n",
        "    dataset=test_dataset,\n",
        ")"
      ]
    },
    {
      "cell_type": "code",
      "execution_count": null,
      "id": "8ee01e4607601dd8",
      "metadata": {
        "id": "8ee01e4607601dd8",
        "colab": {
          "base_uri": "https://localhost:8080/"
        },
        "outputId": "660e3367-0a9d-4165-a57a-f9e8236517a6"
      },
      "outputs": [
        {
          "output_type": "stream",
          "name": "stdout",
          "text": [
            "Recall:    0.821\n",
            "F1:        0.830\n",
            "Precision: 0.881\n",
            "              precision    recall  f1-score   support\n",
            "\n",
            "           0       0.79      0.99      0.88       512\n",
            "           1       0.97      0.66      0.78       393\n",
            "\n",
            "    accuracy                           0.84       905\n",
            "   macro avg       0.88      0.82      0.83       905\n",
            "weighted avg       0.87      0.84      0.84       905\n",
            "\n"
          ]
        }
      ],
      "source": [
        "print(f\"Recall:    {cnn_model_report['recall']:.3f}\")\n",
        "print(f\"F1:        {cnn_model_report['f1']:.3f}\")\n",
        "print(f\"Precision: {cnn_model_report['precision']:.3f}\")\n",
        "print(cnn_model_report['report'])"
      ]
    },
    {
      "cell_type": "markdown",
      "source": [
        "#### SGD vs. Adam"
      ],
      "metadata": {
        "id": "b320jzLbx9wS"
      },
      "id": "b320jzLbx9wS"
    },
    {
      "cell_type": "markdown",
      "source": [
        "\n",
        "- **SGD**: It is a simple optimization algorithm that updates the weights based on the gradient of the loss function with respect to the weights. It computes the gradient on a small batch of training data and updates the weights in the direction of the negative gradient.\n",
        "\n",
        "- **Adam**: Adam is a more complex optimization algorithm that combines the ideas of momentum and adaptive learning rates. It computes an exponentially weighted average of the past gradients and the past squared gradients and uses them to update the weights. This helps to smooth out the noise in the gradient, which can make the optimization more stable. Additionally, Adam adapts the learning rate for each weight based on the estimates of the variance and the mean of the gradients, which can help to converge faster and avoid getting stuck in local minima.\n",
        "\n",
        "In summary, **SGD** is a simple and widely used optimization algorithm, but it can be slow to converge and sensitive to the choice of learning rate.\n",
        "\n",
        "**Adam**, on the other hand, is a more complex and computationally expensive algorithm, but it can converge faster and adaptively adjust the learning rate based on the gradient's statistics."
      ],
      "metadata": {
        "id": "b7YtjW50x9wU"
      },
      "id": "b7YtjW50x9wU"
    },
    {
      "cell_type": "markdown",
      "source": [
        "#### Why Cross Entropy"
      ],
      "metadata": {
        "id": "-a4eoqn3i4Dk"
      },
      "id": "-a4eoqn3i4Dk"
    },
    {
      "cell_type": "markdown",
      "source": [
        "Cross-entropy loss is commonly used in classification tasks, including text classification problems such as identifying the intention to commit suicide from tweets. Here are the reasons why cross-entropy loss is particularly suitable for this type of problem:\n",
        "\n",
        "**Reasons for Using Cross-Entropy Loss**:\n",
        "\n",
        "1. **Probabilistic Interpretation**:\n",
        "   - Cross-entropy loss measures the performance of a classification model whose output is a probability value between 0 and 1. In the context of classifying tweets for suicidal intent, the model's output can be interpreted as the probability that a tweet indicates suicidal intent.\n",
        "\n",
        "2. **Effective Gradient Computation**:\n",
        "   - Cross-entropy loss works well with gradient-based optimization methods like those used in training convolutional neural networks (CNNs). It provides clear and effective gradients that help the model converge more efficiently during training.\n",
        "\n",
        "3. **Penalizing Incorrect Predictions**:\n",
        "   - Cross-entropy loss penalizes incorrect classifications more heavily than some other loss functions. For a sensitive issue like suicide intent detection, this is important because it encourages the model to make accurate predictions, reducing the risk of false negatives (failing to identify actual suicidal intent).\n",
        "\n",
        "4. **Handling Multiple Classes**:\n",
        "   - If the problem involves more than two classes (e.g., different levels of suicidal intent or multiple intentions including non-suicidal ones), cross-entropy loss can easily extend to multi-class classification using softmax activation in the output layer.\n",
        "\n",
        "Given the sensitive nature of detecting suicidal intent in tweets, cross-entropy loss helps ensure the model's predictions are both probabilistically meaningful and optimized effectively, making it a suitable choice for this classification task."
      ],
      "metadata": {
        "id": "YNY9McO8i7Oj"
      },
      "id": "YNY9McO8i7Oj"
    },
    {
      "cell_type": "markdown",
      "source": [
        "#### Splitting Data"
      ],
      "metadata": {
        "id": "Q7Mbi9yLjeRh"
      },
      "id": "Q7Mbi9yLjeRh"
    },
    {
      "cell_type": "markdown",
      "source": [
        "Splitting the data with `90%` for training and `10%` for testing is a common practice because it provides a good balance between having enough data to train the model effectively (8100 tweets) while retaining a sufficient amount of data to evaluate the model's performance (900 tweets). This ensures that the model can learn from a large dataset and still be validated on a separate set to check for generalization and potential overfitting."
      ],
      "metadata": {
        "id": "-KReJftdjg8o"
      },
      "id": "-KReJftdjg8o"
    },
    {
      "cell_type": "markdown",
      "source": [
        "#### Kernel Size"
      ],
      "metadata": {
        "id": "gUWkiMR_j5FA"
      },
      "id": "gUWkiMR_j5FA"
    },
    {
      "cell_type": "markdown",
      "source": [
        "The kernel size in convolutional layers is a critical hyperparameter that influences how the model extracts features from the input data.\n",
        "\n",
        "**Effect of Kernel Size:**\n",
        "1. **Receptive Field**:\n",
        "   - The kernel size determines the receptive field of the convolutional layer, which is the area of the input that the kernel \"sees\" at each convolution step.\n",
        "\n",
        "2. **Feature Detection**:\n",
        "   - Smaller kernels (e.g., 3x3): Capture fine-grained details and local patterns. Useful for detecting small and detailed features.\n",
        "   - Larger kernels (e.g., 7x7 or larger): Capture broader and more complex patterns. Useful for detecting larger structures and more abstract features.\n",
        "\n",
        "**How It Helps in Feature Extraction:**\n",
        "1. **Local Features**:\n",
        "   - Smaller kernels are effective in capturing local features such as edges, textures, and small shapes. This is because they focus on a smaller region of the input, allowing the model to detect fine details.\n",
        "\n",
        "2. **Global Features**:\n",
        "   - Larger kernels can capture more global features and context within the image or text. They consider a wider area, which can be beneficial for recognizing larger patterns or more contextual information.\n",
        "\n",
        "**Implications of Low or High Kernel Size:**\n",
        "- **Low Kernel Size (e.g., 3x3, 5x5)**:\n",
        "  - **Pros**:\n",
        "    - More granular feature extraction.\n",
        "    - Often results in more layers, which can lead to deeper hierarchical feature representation.\n",
        "    - Computationally efficient as they involve fewer parameters.\n",
        "  - **Cons**:\n",
        "    - Might miss larger contextual information if not used in deeper networks.\n",
        "\n",
        "- **High Kernel Size (e.g., 7x7, 11x11)**:\n",
        "  - **Pros**:\n",
        "    - Can capture more context and larger patterns in a single layer.\n",
        "    - Useful for higher-level feature extraction, such as detecting shapes or textures in images or broader phrases in text.\n",
        "  - **Cons**:\n",
        "    - Higher computational cost due to more parameters.\n",
        "    - Risk of overfitting if the kernel size is too large relative to the input size.\n",
        "    - May result in less detailed local feature extraction.\n"
      ],
      "metadata": {
        "id": "je5jvX_3j7oY"
      },
      "id": "je5jvX_3j7oY"
    },
    {
      "cell_type": "markdown",
      "source": [
        "#### Feed Forward Layers for Dimensionality Reduction"
      ],
      "metadata": {
        "id": "DJ4Nv-J1rq0I"
      },
      "id": "DJ4Nv-J1rq0I"
    },
    {
      "cell_type": "markdown",
      "source": [
        "Feedforward layers, often referred to as fully connected layers or dense layers, are layers in which each neuron is connected to every neuron in the previous layer. These layers perform a linear transformation followed by a non-linear activation function.\n",
        "```python\n",
        "# Feedforward layers (Fully Connected layers)\n",
        "self.fc1 = nn.Linear(3 * 128, 128)  # First feedforward layer\n",
        "self.fc2 = nn.Linear(128, 1)        # Second feedforward layer (output layer for binary classification)\n",
        "```\n",
        "\n",
        "1. **Preservation of Spatial Information**:\n",
        "   - **Pros**: Maintains spatial relationships and detailed features.\n",
        "   - **Comparison**: Pooling can lose fine-grained features early.\n",
        "\n",
        "2. **Flexible Feature Representation**:\n",
        "   - **Pros**: Fully connected layers learn the most relevant feature combinations.\n",
        "   - **Comparison**: Pooling methods are fixed and non-learnable.\n",
        "\n",
        "3. **Increased Model Capacity**:\n",
        "   - **Pros**: Enhances ability to learn complex patterns.\n",
        "   - **Comparison**: Pooling limits parameter count and complexity.\n",
        "\n",
        "4. **Control Over Dimensionality Reduction**:\n",
        "   - **Pros**: Allows precise and gradual reduction of dimensions.\n",
        "   - **Comparison**: Pooling reduces dimensions by fixed ratios, limiting control.\n",
        "\n",
        "In summary, using feed forward layers after convolutional layers offers greater flexibility, control, and capacity for learning complex features compared to pooling methods."
      ],
      "metadata": {
        "id": "oVV8vHpYrspo"
      },
      "id": "oVV8vHpYrspo"
    },
    {
      "cell_type": "markdown",
      "source": [
        "#### Batch Size Effect"
      ],
      "metadata": {
        "id": "38BfdYoKyr7Q"
      },
      "id": "38BfdYoKyr7Q"
    },
    {
      "cell_type": "markdown",
      "source": [
        "**Batch Size Impact:**\n",
        "- **High Initial Performance**: Our model metrics were already high.\n",
        "- **Little Difference**: Using different batch sizes (32, 16, 64) showed minimal impact on performance.\n",
        "\n",
        "**Insights:**\n",
        "- **Stability of Metrics**: High initial performance indicates that the model is robust across various batch sizes.\n",
        "- **Minor Variations**: Small performance changes suggest the model is not highly sensitive to batch size in this context.\n",
        "\n",
        "In conclusion, different batch sizes had little effect because the model was already performing well and was robust to these changes."
      ],
      "metadata": {
        "id": "faSmkZmMyub6"
      },
      "id": "faSmkZmMyub6"
    },
    {
      "cell_type": "markdown",
      "source": [
        "### Window-Context = 196 ; Regularization = False"
      ],
      "metadata": {
        "id": "Uk3PTKitpbmC"
      },
      "id": "Uk3PTKitpbmC"
    },
    {
      "cell_type": "code",
      "source": [
        "model_2 = CNN(196)\n",
        "\n",
        "batch_size = 128\n",
        "num_epochs = 10\n",
        "\n",
        "criterion = nn.CrossEntropyLoss()\n",
        "\n",
        "optimizer = optim.Adam(model_2.parameters(), lr=0.03)\n",
        "\n",
        "# Training history\n",
        "cnn_model_train_history2 = train_model(\n",
        "    model=model_2,\n",
        "    batch_size=batch_size,\n",
        "    loss_function=criterion,\n",
        "    optimizer=optimizer,\n",
        "    epochs=num_epochs,\n",
        "    train_set=train_dataset_2,\n",
        "    test_set=test_dataset_2\n",
        ")"
      ],
      "metadata": {
        "id": "3PeLj3LW5UBh",
        "colab": {
          "base_uri": "https://localhost:8080/"
        },
        "outputId": "b7686a0d-3125-405d-9cf8-2c7aaedcb5f6"
      },
      "id": "3PeLj3LW5UBh",
      "execution_count": null,
      "outputs": [
        {
          "output_type": "stream",
          "name": "stderr",
          "text": [
            "(Training) Epoch [1/10]: 100%|██████████| 64/64 [00:03<00:00, 17.02it/s, accuracy=0.796, loss=0.364]\n",
            "(Eval): 100%|██████████| 8/8 [00:00<00:00, 19.48it/s, accuracy=0.842, loss=0.562]\n",
            "(Training) Epoch [2/10]: 100%|██████████| 64/64 [00:04<00:00, 15.16it/s, accuracy=0.843, loss=0.35]\n",
            "(Eval): 100%|██████████| 8/8 [00:00<00:00, 23.55it/s, accuracy=0.85, loss=0.611]\n",
            "(Training) Epoch [3/10]: 100%|██████████| 64/64 [00:03<00:00, 18.26it/s, accuracy=0.845, loss=0.336]\n",
            "(Eval): 100%|██████████| 8/8 [00:00<00:00, 22.19it/s, accuracy=0.844, loss=0.556]\n",
            "(Training) Epoch [4/10]: 100%|██████████| 64/64 [00:03<00:00, 16.57it/s, accuracy=0.85, loss=0.241]\n",
            "(Eval): 100%|██████████| 8/8 [00:00<00:00, 19.87it/s, accuracy=0.844, loss=0.922]\n",
            "(Training) Epoch [5/10]: 100%|██████████| 64/64 [00:04<00:00, 14.20it/s, accuracy=0.849, loss=0.391]\n",
            "(Eval): 100%|██████████| 8/8 [00:00<00:00, 15.97it/s, accuracy=0.857, loss=0.833]\n",
            "(Training) Epoch [6/10]: 100%|██████████| 64/64 [00:03<00:00, 16.70it/s, accuracy=0.859, loss=0.288]\n",
            "(Eval): 100%|██████████| 8/8 [00:00<00:00, 24.60it/s, accuracy=0.859, loss=0.715]\n",
            "(Training) Epoch [7/10]: 100%|██████████| 64/64 [00:03<00:00, 18.57it/s, accuracy=0.86, loss=0.297]\n",
            "(Eval): 100%|██████████| 8/8 [00:00<00:00, 25.10it/s, accuracy=0.861, loss=0.541]\n",
            "(Training) Epoch [8/10]: 100%|██████████| 64/64 [00:03<00:00, 17.69it/s, accuracy=0.869, loss=0.302]\n",
            "(Eval): 100%|██████████| 8/8 [00:00<00:00, 18.38it/s, accuracy=0.863, loss=0.569]\n",
            "(Training) Epoch [9/10]: 100%|██████████| 64/64 [00:04<00:00, 15.74it/s, accuracy=0.876, loss=0.306]\n",
            "(Eval): 100%|██████████| 8/8 [00:00<00:00, 24.49it/s, accuracy=0.861, loss=0.596]\n",
            "(Training) Epoch [10/10]: 100%|██████████| 64/64 [00:03<00:00, 18.47it/s, accuracy=0.888, loss=0.335]\n",
            "(Eval): 100%|██████████| 8/8 [00:00<00:00, 21.86it/s, accuracy=0.882, loss=0.34]\n"
          ]
        }
      ]
    },
    {
      "cell_type": "code",
      "source": [
        "trend_plot_helper(\n",
        "    {\n",
        "        \"Accuracy - Epoch\": [\n",
        "            (\"Train Acc\", cnn_model_train_history2[\"train_acc\"]),\n",
        "            (\"Test Acc\", cnn_model_train_history2[\"test_acc\"]),\n",
        "        ],\n",
        "        \"Loss - Epoch\": [\n",
        "            (\"Train Loss\", cnn_model_train_history2[\"train_loss\"]),\n",
        "            (\"Test Loss\", cnn_model_train_history2[\"test_loss\"])\n",
        "        ]\n",
        "    }\n",
        ")"
      ],
      "metadata": {
        "id": "Rt8ypAyW7bjH",
        "colab": {
          "base_uri": "https://localhost:8080/",
          "height": 465
        },
        "outputId": "30cedc3e-f8ae-42f3-bbb7-b09f1e722ba3"
      },
      "id": "Rt8ypAyW7bjH",
      "execution_count": null,
      "outputs": [
        {
          "output_type": "display_data",
          "data": {
            "text/plain": [
              "<Figure size 1000x500 with 2 Axes>"
            ],
            "image/png": "[encoded data removed]"
          },
          "metadata": {}
        }
      ]
    },
    {
      "cell_type": "code",
      "source": [
        "cnn_model_report2 = generate_confusion_matrix(\n",
        "    model=model_2,\n",
        "    dataset=test_dataset_2,\n",
        ")"
      ],
      "metadata": {
        "id": "K2IJYDKu9h7l",
        "colab": {
          "base_uri": "https://localhost:8080/",
          "height": 914
        },
        "outputId": "43d88aaf-186c-48a2-cd45-d2378c0869d2"
      },
      "id": "K2IJYDKu9h7l",
      "execution_count": null,
      "outputs": [
        {
          "output_type": "stream",
          "name": "stderr",
          "text": []
        },
        {
          "output_type": "display_data",
          "data": {
            "text/plain": [
              "<Figure size 1000x1000 with 1 Axes>"
            ],
            "image/png": "[encoded data removed]"
          },
          "metadata": {}
        }
      ]
    },
    {
      "cell_type": "code",
      "source": [
        "print(f\"Recall:    {cnn_model_report2['recall']:.3f}\")\n",
        "print(f\"F1:        {cnn_model_report2['f1']:.3f}\")\n",
        "print(f\"Precision: {cnn_model_report2['precision']:.3f}\")\n",
        "print(cnn_model_report2['report'])"
      ],
      "metadata": {
        "id": "LwnNEbWJBiyy",
        "colab": {
          "base_uri": "https://localhost:8080/"
        },
        "outputId": "81f367d5-f168-4236-8434-f2d212c2ae41"
      },
      "id": "LwnNEbWJBiyy",
      "execution_count": null,
      "outputs": [
        {
          "output_type": "stream",
          "name": "stdout",
          "text": [
            "Recall:    0.873\n",
            "F1:        0.878\n",
            "Precision: 0.887\n",
            "              precision    recall  f1-score   support\n",
            "\n",
            "           0       0.86      0.94      0.90       512\n",
            "           1       0.91      0.81      0.86       393\n",
            "\n",
            "    accuracy                           0.88       905\n",
            "   macro avg       0.89      0.87      0.88       905\n",
            "weighted avg       0.88      0.88      0.88       905\n",
            "\n"
          ]
        }
      ]
    },
    {
      "cell_type": "markdown",
      "source": [
        "#### Setting the Context-Window Larger than the Length of All Tweets"
      ],
      "metadata": {
        "id": "746zV-PMtb6R"
      },
      "id": "746zV-PMtb6R"
    },
    {
      "cell_type": "markdown",
      "source": [
        "**Pros:**\n",
        "1. **Global Context Capture**:\n",
        "   - **Pros**: The CNN can consider the entire tweet, capturing all available context and nuances, which can be beneficial for understanding the complete meaning.\n",
        "   - **Benefit**: Ensures that no information is lost due to window limitations, potentially improving model performance on tasks requiring full context understanding.\n",
        "\n",
        "2. **Simpler Model Configuration**:\n",
        "   - **Pros**: No need to fine-tune the context window size for varying tweet lengths, simplifying preprocessing and model configuration.\n",
        "   - **Benefit**: Uniformity in data processing, making the implementation and maintenance of the model more straightforward.\n",
        "\n",
        "**Cons:**\n",
        "1. **Computational Inefficiency**:\n",
        "   - **Cons**: Processing unnecessary padding can increase computational load and memory usage without adding meaningful information.\n",
        "   - **Drawback**: Slower training and inference times, as the model processes additional, non-informative data.\n",
        "\n",
        "2. **Potential Overfitting**:\n",
        "   - **Cons**: The model might overfit to the specific structure and length of the padded tweets, learning to recognize padding patterns instead of focusing solely on meaningful content.\n",
        "   - **Drawback**: Reduced generalization to tweets of different lengths or formats.\n",
        "\n",
        "3. **Dilution of Important Features**:\n",
        "   - **Cons**: Important features might be diluted by the inclusion of many padding tokens, potentially leading to reduced model sensitivity to key words and phrases.\n",
        "   - **Drawback**: Lower model accuracy and effectiveness, particularly for shorter tweets where padding dominates the input."
      ],
      "metadata": {
        "id": "a0YFcluStpRn"
      },
      "id": "a0YFcluStpRn"
    },
    {
      "cell_type": "markdown",
      "source": [
        "#### Comparision"
      ],
      "metadata": {
        "id": "S3F3_nw2uZJI"
      },
      "id": "S3F3_nw2uZJI"
    },
    {
      "cell_type": "markdown",
      "source": [
        "We can see that we got better result metrics, especially in `intention = 1`. We got 15 percent a recall better.\n",
        "\n",
        "It shows that despite the fact that the bigger window context brings us more computational cost, it also makes the model perform better.\n",
        "\n",
        "Also regrading the plots, we can see that with `window context = 64` we may have been overfitting, as the loss of the test data increases, but with `window context = 196` the model performs well."
      ],
      "metadata": {
        "id": "BC_9gs5SucvB"
      },
      "id": "BC_9gs5SucvB"
    },
    {
      "cell_type": "markdown",
      "source": [
        "#### Learning Rate and Batch Size Effects"
      ],
      "metadata": {
        "id": "ejSGC4DCzQX_"
      },
      "id": "ejSGC4DCzQX_"
    },
    {
      "cell_type": "markdown",
      "source": [
        "**Learning Rates and Batch Sizes Impact:**\n",
        "- **High Initial Performance**: Our model metrics were already high.\n",
        "- **Little Difference with Batch Sizes**: Using batch sizes of 32, 16, and 64 showed minimal impact on performance.\n",
        "\n",
        "**Learning Rates:**\n",
        "- **Higher Learning Rates for Bigger Context Window**: We needed to increase the learning rate for larger context windows.\n",
        "\n",
        "**Insights:**\n",
        "- **Batch Sizes**: Stability of metrics suggests robustness across different batch sizes.\n",
        "- **Learning Rates**: Larger context windows might require higher learning rates to speed up convergence due to the increased amount of information processed.\n",
        "\n",
        "In conclusion, different batch sizes had minimal impact due to high initial performance, while larger context windows required higher learning rates to ensure efficient training."
      ],
      "metadata": {
        "id": "IMtd7SQBzUGv"
      },
      "id": "IMtd7SQBzUGv"
    },
    {
      "cell_type": "markdown",
      "source": [
        "### Window-Context = 64 ; Regularization = True"
      ],
      "metadata": {
        "id": "-aFSRNXFpezZ"
      },
      "id": "-aFSRNXFpezZ"
    },
    {
      "cell_type": "code",
      "source": [
        "model_3 = CNN(64, reg=True)\n",
        "batch_size = 32\n",
        "num_epochs = 10\n",
        "\n",
        "criterion = nn.CrossEntropyLoss()\n",
        "\n",
        "optimizer = optim.Adam(model_3.parameters(), lr=0.001)\n",
        "\n",
        "# Training history\n",
        "cnn_model_train_history3 = train_model(\n",
        "    model=model_3,\n",
        "    batch_size=batch_size,\n",
        "    loss_function=criterion,\n",
        "    optimizer=optimizer,\n",
        "    epochs=num_epochs,\n",
        "    train_set=train_dataset,\n",
        "    test_set=test_dataset\n",
        ")"
      ],
      "metadata": {
        "colab": {
          "base_uri": "https://localhost:8080/"
        },
        "id": "HuRVXAQxl5Bc",
        "outputId": "32b44e87-c3e3-4793-d72d-1c7e0a18b9b2"
      },
      "id": "HuRVXAQxl5Bc",
      "execution_count": null,
      "outputs": [
        {
          "output_type": "stream",
          "name": "stderr",
          "text": [
            "(Training) Epoch [1/10]: 100%|██████████| 256/256 [00:04<00:00, 51.95it/s, accuracy=0.836, loss=0.463]\n",
            "(Eval): 100%|██████████| 29/29 [00:00<00:00, 75.76it/s, accuracy=0.851, loss=0.632]\n",
            "(Training) Epoch [2/10]: 100%|██████████| 256/256 [00:04<00:00, 60.93it/s, accuracy=0.845, loss=0.146]\n",
            "(Eval): 100%|██████████| 29/29 [00:00<00:00, 79.11it/s, accuracy=0.846, loss=0.574]\n",
            "(Training) Epoch [3/10]: 100%|██████████| 256/256 [00:04<00:00, 51.57it/s, accuracy=0.848, loss=0.423]\n",
            "(Eval): 100%|██████████| 29/29 [00:00<00:00, 57.28it/s, accuracy=0.849, loss=0.536]\n",
            "(Training) Epoch [4/10]: 100%|██████████| 256/256 [00:04<00:00, 57.49it/s, accuracy=0.856, loss=0.475]\n",
            "(Eval): 100%|██████████| 29/29 [00:00<00:00, 79.28it/s, accuracy=0.85, loss=0.572]\n",
            "(Training) Epoch [5/10]: 100%|██████████| 256/256 [00:04<00:00, 61.87it/s, accuracy=0.86, loss=0.402]\n",
            "(Eval): 100%|██████████| 29/29 [00:00<00:00, 77.02it/s, accuracy=0.848, loss=0.504]\n",
            "(Training) Epoch [6/10]: 100%|██████████| 256/256 [00:04<00:00, 54.05it/s, accuracy=0.861, loss=0.133]\n",
            "(Eval): 100%|██████████| 29/29 [00:00<00:00, 65.72it/s, accuracy=0.846, loss=0.565]\n",
            "(Training) Epoch [7/10]: 100%|██████████| 256/256 [00:04<00:00, 55.09it/s, accuracy=0.864, loss=0.164]\n",
            "(Eval): 100%|██████████| 29/29 [00:00<00:00, 80.49it/s, accuracy=0.845, loss=0.547]\n",
            "(Training) Epoch [8/10]: 100%|██████████| 256/256 [00:04<00:00, 60.89it/s, accuracy=0.869, loss=0.153]\n",
            "(Eval): 100%|██████████| 29/29 [00:00<00:00, 78.70it/s, accuracy=0.821, loss=0.39]\n",
            "(Training) Epoch [9/10]: 100%|██████████| 256/256 [00:08<00:00, 29.02it/s, accuracy=0.87, loss=0.184]\n",
            "(Eval): 100%|██████████| 29/29 [00:00<00:00, 42.84it/s, accuracy=0.853, loss=0.547]\n",
            "(Training) Epoch [10/10]: 100%|██████████| 256/256 [00:05<00:00, 46.70it/s, accuracy=0.873, loss=0.331]\n",
            "(Eval): 100%|██████████| 29/29 [00:00<00:00, 80.20it/s, accuracy=0.862, loss=0.614]\n"
          ]
        }
      ]
    },
    {
      "cell_type": "code",
      "source": [
        "trend_plot_helper(\n",
        "    {\n",
        "        \"Accuracy - Epoch\": [\n",
        "            (\"Train Acc\", cnn_model_train_history3[\"train_acc\"]),\n",
        "            (\"Test Acc\", cnn_model_train_history3[\"test_acc\"]),\n",
        "        ],\n",
        "        \"Loss - Epoch\": [\n",
        "            (\"Train Loss\", cnn_model_train_history3[\"train_loss\"]),\n",
        "            (\"Test Loss\", cnn_model_train_history3[\"test_loss\"])\n",
        "        ]\n",
        "    }\n",
        ")"
      ],
      "metadata": {
        "colab": {
          "base_uri": "https://localhost:8080/",
          "height": 465
        },
        "id": "lbcdfCQOmhty",
        "outputId": "d8a2324e-7423-45a0-f54c-eb5d6c725012"
      },
      "id": "lbcdfCQOmhty",
      "execution_count": null,
      "outputs": [
        {
          "output_type": "display_data",
          "data": {
            "text/plain": [
              "<Figure size 1000x500 with 2 Axes>"
            ],
            "image/png": "[encoded data removed]"
          },
          "metadata": {}
        }
      ]
    },
    {
      "cell_type": "code",
      "source": [
        "cnn_model_report3 = generate_confusion_matrix(\n",
        "    model=model_3,\n",
        "    dataset=test_dataset,\n",
        ")"
      ],
      "metadata": {
        "colab": {
          "base_uri": "https://localhost:8080/",
          "height": 914
        },
        "id": "0Xwibj28nKas",
        "outputId": "c301115d-6837-42a1-ac47-ff8ed0d67000"
      },
      "id": "0Xwibj28nKas",
      "execution_count": null,
      "outputs": [
        {
          "output_type": "stream",
          "name": "stderr",
          "text": []
        },
        {
          "output_type": "display_data",
          "data": {
            "text/plain": [
              "<Figure size 1000x1000 with 1 Axes>"
            ],
            "image/png": "[encoded data removed]"
          },
          "metadata": {}
        }
      ]
    },
    {
      "cell_type": "code",
      "source": [
        "print(f\"Recall:    {cnn_model_report3['recall']:.3f}\")\n",
        "print(f\"F1:        {cnn_model_report3['f1']:.3f}\")\n",
        "print(f\"Precision: {cnn_model_report3['precision']:.3f}\")\n",
        "print(cnn_model_report3['report'])"
      ],
      "metadata": {
        "colab": {
          "base_uri": "https://localhost:8080/"
        },
        "id": "szvjEPF_nSkE",
        "outputId": "0775b423-4d1e-4be0-a447-35db213fce1b"
      },
      "id": "szvjEPF_nSkE",
      "execution_count": null,
      "outputs": [
        {
          "output_type": "stream",
          "name": "stdout",
          "text": [
            "Recall:    0.848\n",
            "F1:        0.855\n",
            "Precision: 0.876\n",
            "              precision    recall  f1-score   support\n",
            "\n",
            "           0       0.83      0.95      0.89       512\n",
            "           1       0.92      0.74      0.82       393\n",
            "\n",
            "    accuracy                           0.86       905\n",
            "   macro avg       0.88      0.85      0.86       905\n",
            "weighted avg       0.87      0.86      0.86       905\n",
            "\n"
          ]
        }
      ]
    },
    {
      "cell_type": "markdown",
      "source": [
        "#### Comparision"
      ],
      "metadata": {
        "id": "KIUlGLqBAbmn"
      },
      "id": "KIUlGLqBAbmn"
    },
    {
      "cell_type": "markdown",
      "source": [
        "**Regularization Impact:**\n",
        "- **High Initial Performance**: Your model metrics were already high.\n",
        "- **Slight Improvement**: Regularization methods like dropout, L2 regularization, and data augmentation slightly improved performance.\n",
        "\n",
        "**Benefits of Regularization:**\n",
        "1. **Prevent Overfitting**: Helps the model generalize better to unseen data.\n",
        "2. **Increase Robustness**: Adds stability, making the model less sensitive to specific patterns.\n",
        "\n",
        "Even with high initial metrics, regularization ensured better generalization and robustness, leading to a slight performance boost."
      ],
      "metadata": {
        "id": "xbsbid_BAjRF"
      },
      "id": "xbsbid_BAjRF"
    },
    {
      "cell_type": "markdown",
      "source": [
        "### Window-Context = 196 ; Regularization = True"
      ],
      "metadata": {
        "id": "pE495Fgophoz"
      },
      "id": "pE495Fgophoz"
    },
    {
      "cell_type": "code",
      "source": [
        "model_4 = CNN(196, reg=True)\n",
        "batch_size = 32\n",
        "num_epochs = 10\n",
        "\n",
        "criterion = nn.CrossEntropyLoss()\n",
        "\n",
        "optimizer = optim.Adam(model_4.parameters(), lr=0.03)\n",
        "\n",
        "# Training history\n",
        "cnn_model_train_history4 = train_model(\n",
        "    model=model_4,\n",
        "    batch_size=batch_size,\n",
        "    loss_function=criterion,\n",
        "    optimizer=optimizer,\n",
        "    epochs=num_epochs,\n",
        "    train_set=train_dataset_2,\n",
        "    test_set=test_dataset_2\n",
        ")"
      ],
      "metadata": {
        "colab": {
          "base_uri": "https://localhost:8080/"
        },
        "id": "oHZsh4bFnWiy",
        "outputId": "71712ee1-d4c4-4d5a-8405-25fe12e918f6"
      },
      "id": "oHZsh4bFnWiy",
      "execution_count": null,
      "outputs": [
        {
          "output_type": "stream",
          "name": "stderr",
          "text": [
            "(Training) Epoch [1/10]: 100%|██████████| 256/256 [00:07<00:00, 35.12it/s, accuracy=0.828, loss=0.159]\n",
            "(Eval): 100%|██████████| 29/29 [00:00<00:00, 67.85it/s, accuracy=0.848, loss=0.545]\n",
            "(Training) Epoch [2/10]: 100%|██████████| 256/256 [00:04<00:00, 53.00it/s, accuracy=0.841, loss=0.21]\n",
            "(Eval): 100%|██████████| 29/29 [00:00<00:00, 52.20it/s, accuracy=0.84, loss=0.527]\n",
            "(Training) Epoch [3/10]: 100%|██████████| 256/256 [00:05<00:00, 45.39it/s, accuracy=0.846, loss=0.383]\n",
            "(Eval): 100%|██████████| 29/29 [00:00<00:00, 69.66it/s, accuracy=0.845, loss=0.56]\n",
            "(Training) Epoch [4/10]: 100%|██████████| 256/256 [00:04<00:00, 52.70it/s, accuracy=0.847, loss=0.564]\n",
            "(Eval): 100%|██████████| 29/29 [00:00<00:00, 69.48it/s, accuracy=0.834, loss=0.424]\n",
            "(Training) Epoch [5/10]: 100%|██████████| 256/256 [00:05<00:00, 49.66it/s, accuracy=0.856, loss=0.311]\n",
            "(Eval): 100%|██████████| 29/29 [00:00<00:00, 59.07it/s, accuracy=0.833, loss=0.458]\n",
            "(Training) Epoch [6/10]: 100%|██████████| 256/256 [00:05<00:00, 48.39it/s, accuracy=0.856, loss=0.382]\n",
            "(Eval): 100%|██████████| 29/29 [00:00<00:00, 70.48it/s, accuracy=0.83, loss=0.439]\n",
            "(Training) Epoch [7/10]: 100%|██████████| 256/256 [00:04<00:00, 53.91it/s, accuracy=0.856, loss=0.478]\n",
            "(Eval): 100%|██████████| 29/29 [00:00<00:00, 67.99it/s, accuracy=0.806, loss=0.371]\n",
            "(Training) Epoch [8/10]: 100%|██████████| 256/256 [00:05<00:00, 46.64it/s, accuracy=0.859, loss=0.521]\n",
            "(Eval): 100%|██████████| 29/29 [00:00<00:00, 60.70it/s, accuracy=0.84, loss=0.482]\n",
            "(Training) Epoch [9/10]: 100%|██████████| 256/256 [00:05<00:00, 50.80it/s, accuracy=0.861, loss=0.295]\n",
            "(Eval): 100%|██████████| 29/29 [00:00<00:00, 67.80it/s, accuracy=0.845, loss=0.518]\n",
            "(Training) Epoch [10/10]: 100%|██████████| 256/256 [00:04<00:00, 53.93it/s, accuracy=0.865, loss=0.33]\n",
            "(Eval): 100%|██████████| 29/29 [00:00<00:00, 64.68it/s, accuracy=0.852, loss=0.661]\n"
          ]
        }
      ]
    },
    {
      "cell_type": "code",
      "source": [
        "trend_plot_helper(\n",
        "    {\n",
        "        \"Accuracy - Epoch\": [\n",
        "            (\"Train Acc\", cnn_model_train_history4[\"train_acc\"]),\n",
        "            (\"Test Acc\", cnn_model_train_history4[\"test_acc\"]),\n",
        "        ],\n",
        "        \"Loss - Epoch\": [\n",
        "            (\"Train Loss\", cnn_model_train_history4[\"train_loss\"]),\n",
        "            (\"Test Loss\", cnn_model_train_history4[\"test_loss\"])\n",
        "        ]\n",
        "    }\n",
        ")"
      ],
      "metadata": {
        "colab": {
          "base_uri": "https://localhost:8080/",
          "height": 465
        },
        "id": "tcOQhVQsn3Kc",
        "outputId": "235e4a59-cb6e-4662-e688-38ab6e8c1be8"
      },
      "id": "tcOQhVQsn3Kc",
      "execution_count": null,
      "outputs": [
        {
          "output_type": "display_data",
          "data": {
            "text/plain": [
              "<Figure size 1000x500 with 2 Axes>"
            ],
            "image/png": "[encoded data removed]"
          },
          "metadata": {}
        }
      ]
    },
    {
      "cell_type": "code",
      "source": [
        "cnn_model_report4 = generate_confusion_matrix(\n",
        "    model=model_4,\n",
        "    dataset=test_dataset_2,\n",
        ")"
      ],
      "metadata": {
        "colab": {
          "base_uri": "https://localhost:8080/",
          "height": 914
        },
        "id": "lvBAmkBrn8HZ",
        "outputId": "1875c454-dff3-4349-bd4c-e93174329fa4"
      },
      "id": "lvBAmkBrn8HZ",
      "execution_count": null,
      "outputs": [
        {
          "output_type": "stream",
          "name": "stderr",
          "text": []
        },
        {
          "output_type": "display_data",
          "data": {
            "text/plain": [
              "<Figure size 1000x1000 with 1 Axes>"
            ],
            "image/png": "[encoded data removed]"
          },
          "metadata": {}
        }
      ]
    },
    {
      "cell_type": "code",
      "source": [
        "print(f\"Recall:    {cnn_model_report4['recall']:.3f}\")\n",
        "print(f\"F1:        {cnn_model_report4['f1']:.3f}\")\n",
        "print(f\"Precision: {cnn_model_report4['precision']:.3f}\")\n",
        "print(cnn_model_report4['report'])"
      ],
      "metadata": {
        "colab": {
          "base_uri": "https://localhost:8080/"
        },
        "id": "HJBMEYPtoCDB",
        "outputId": "e59a2528-1312-43a3-d7fc-9895a24978ef"
      },
      "id": "HJBMEYPtoCDB",
      "execution_count": null,
      "outputs": [
        {
          "output_type": "stream",
          "name": "stdout",
          "text": [
            "Recall:    0.840\n",
            "F1:        0.845\n",
            "Precision: 0.862\n",
            "              precision    recall  f1-score   support\n",
            "\n",
            "           0       0.83      0.93      0.88       512\n",
            "           1       0.90      0.75      0.81       393\n",
            "\n",
            "    accuracy                           0.85       905\n",
            "   macro avg       0.86      0.84      0.85       905\n",
            "weighted avg       0.86      0.85      0.85       905\n",
            "\n"
          ]
        }
      ]
    },
    {
      "cell_type": "markdown",
      "source": [
        "#### Comparision"
      ],
      "metadata": {
        "id": "k3y4Jmh3wvHh"
      },
      "id": "k3y4Jmh3wvHh"
    },
    {
      "cell_type": "markdown",
      "source": [
        "Regularization methods, while generally beneficial, can sometimes lead to slight decreases in performance, particularly in scenarios with larger context windows. This may occur due to underfitting, data sparsity, interaction with learning rate, sensitivity to hyperparameters, and model complexity. Fine-tuning regularization parameters and considering interactions with other hyperparameters are crucial for optimizing performance."
      ],
      "metadata": {
        "id": "SgVh905OwxOv"
      },
      "id": "SgVh905OwxOv"
    }
  ],
  "metadata": {
    "colab": {
      "provenance": [],
      "gpuType": "T4"
    },
    "kernelspec": {
      "display_name": "Python 3",
      "name": "python3"
    },
    "language_info": {
      "codemirror_mode": {
        "name": "ipython",
        "version": 2
      },
      "file_extension": ".py",
      "mimetype": "text/x-python",
      "name": "python",
      "nbconvert_exporter": "python",
      "pygments_lexer": "ipython2",
      "version": "2.7.6"
    },
    "accelerator": "GPU"
  },
  "nbformat": 4,
  "nbformat_minor": 5
}